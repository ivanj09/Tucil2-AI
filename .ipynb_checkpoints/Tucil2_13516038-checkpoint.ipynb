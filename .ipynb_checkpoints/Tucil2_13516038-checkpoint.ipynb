{
 "cells": [
  {
   "cell_type": "markdown",
   "metadata": {},
   "source": [
    "# Tugas kecil 2: Eksplorasi Scikit-Learn pada Jupyter Notebook\n",
    "---\n",
    "Oleh: Ivan Jonathan (13516059) dan Mochamad Alghifari (13516038)"
   ]
  },
  {
   "cell_type": "markdown",
   "metadata": {},
   "source": [
    "## Overview\n",
    "    1. Import Library yang dibutuhkan\n",
    "    2. Pembacaan Dataset Training\n",
    "        2.1 Dataset Iris\n",
    "        2.2 Dataset Play Tennis\n",
    "    3. Pembelajaran Dataset Iris dengan Skema Full Training \n",
    "        3.1 Naïve Bayes\n",
    "        3.2 DTL\n",
    "        3.3 kNN\n",
    "        3.4 Neural Network MLP\n",
    "    4. Pembelajaran Dataset Iris dengan Skema Split Training 90%, test 10%, dan menampilkan kinerja serta confusion matrix\n",
    "        4.1 Membagi dataset menjadi 10% untuk Test\n",
    "        4.2 Naïve Bayes\n",
    "        4.3 DTL\n",
    "        4.4 kNN\n",
    "        4.5 Neural Network MLP\n",
    "    5. Pembelajaran Dataset Iris dengan Skema 10-Fold Cross Validation, dan menampilkan kinerjanya.\n",
    "        5.1 Naïve Bayes\n",
    "        5.2 DTL\n",
    "        5.3 kNN\n",
    "        5.4 Neural Network MLP\n",
    "    6. Penyimpanan Model ke File External\n",
    "    7. Sumber"
   ]
  },
  {
   "cell_type": "markdown",
   "metadata": {},
   "source": [
    "## 1. Import Library yang dibutuhkan"
   ]
  },
  {
   "cell_type": "code",
   "execution_count": 1,
   "metadata": {},
   "outputs": [
    {
     "ename": "ModuleNotFoundError",
     "evalue": "No module named 'graphviz'",
     "output_type": "error",
     "traceback": [
      "\u001b[0;31m--------------------------------------------------------------------------\u001b[0m",
      "\u001b[0;31mModuleNotFoundError\u001b[0m                      Traceback (most recent call last)",
      "\u001b[0;32m<ipython-input-1-3b0c468aef15>\u001b[0m in \u001b[0;36m<module>\u001b[0;34m()\u001b[0m\n\u001b[1;32m     10\u001b[0m \u001b[0;32mfrom\u001b[0m \u001b[0msklearn\u001b[0m\u001b[0;34m.\u001b[0m\u001b[0mmodel_selection\u001b[0m \u001b[0;32mimport\u001b[0m \u001b[0mtrain_test_split\u001b[0m\u001b[0;34m,\u001b[0m \u001b[0mcross_val_score\u001b[0m\u001b[0;34m\u001b[0m\u001b[0m\n\u001b[1;32m     11\u001b[0m \u001b[0;32mfrom\u001b[0m \u001b[0msklearn\u001b[0m\u001b[0;34m.\u001b[0m\u001b[0mnaive_bayes\u001b[0m \u001b[0;32mimport\u001b[0m \u001b[0mGaussianNB\u001b[0m\u001b[0;34m\u001b[0m\u001b[0m\n\u001b[0;32m---> 12\u001b[0;31m \u001b[0;32mimport\u001b[0m \u001b[0mgraphviz\u001b[0m\u001b[0;34m\u001b[0m\u001b[0m\n\u001b[0m\u001b[1;32m     13\u001b[0m \u001b[0;32mfrom\u001b[0m \u001b[0msklearn\u001b[0m\u001b[0;34m.\u001b[0m\u001b[0mneural_network\u001b[0m \u001b[0;32mimport\u001b[0m \u001b[0mMLPClassifier\u001b[0m\u001b[0;34m\u001b[0m\u001b[0m\n",
      "\u001b[0;31mModuleNotFoundError\u001b[0m: No module named 'graphviz'"
     ]
    }
   ],
   "source": [
    "#Import library untuk proses data\n",
    "import matplotlib as mpl\n",
    "import matplotlib.pyplot as plt\n",
    "from matplotlib.patches import Ellipse\n",
    "import numpy as np\n",
    "\n",
    "#Import library yang dibutuhkan untuk pembelajaran\n",
    "import pandas as pd\n",
    "from sklearn import datasets, metrics, neighbors, tree\n",
    "from sklearn.model_selection import train_test_split, cross_val_score\n",
    "from sklearn.naive_bayes import GaussianNB\n",
    "import graphviz \n",
    "from sklearn.neural_network import MLPClassifier"
   ]
  },
  {
   "cell_type": "code",
   "execution_count": null,
   "metadata": {},
   "outputs": [],
   "source": [
    "gnb = GaussianNB()\n",
    "dtl = tree.DecisionTreeClassifier()\n",
    "kNN = neighbors.KNeighborsClassifier(5, weights='uniform')\n",
    "mlp = MLPClassifier(solver='lbfgs', alpha=1e-5,\n",
    "                     hidden_layer_sizes=(5, 2), random_state=1)"
   ]
  },
  {
   "cell_type": "markdown",
   "metadata": {},
   "source": [
    "## 2. Pembacaan Dataset Training"
   ]
  },
  {
   "cell_type": "markdown",
   "metadata": {},
   "source": [
    "### 2.1 Dataset Iris"
   ]
  },
  {
   "cell_type": "code",
   "execution_count": null,
   "metadata": {},
   "outputs": [],
   "source": [
    "dfiris = datasets.load_iris()"
   ]
  },
  {
   "cell_type": "markdown",
   "metadata": {},
   "source": [
    "#### Iris attribute"
   ]
  },
  {
   "cell_type": "code",
   "execution_count": null,
   "metadata": {},
   "outputs": [],
   "source": [
    "dfiris.feature_names"
   ]
  },
  {
   "cell_type": "markdown",
   "metadata": {},
   "source": [
    "#### Iris data"
   ]
  },
  {
   "cell_type": "code",
   "execution_count": null,
   "metadata": {},
   "outputs": [],
   "source": [
    "dfiris.data"
   ]
  },
  {
   "cell_type": "markdown",
   "metadata": {},
   "source": [
    "#### Iris target"
   ]
  },
  {
   "cell_type": "code",
   "execution_count": null,
   "metadata": {
    "scrolled": true
   },
   "outputs": [],
   "source": [
    "dfiris.target"
   ]
  },
  {
   "cell_type": "markdown",
   "metadata": {},
   "source": [
    "### 2.2 Dataset Play Tennis"
   ]
  },
  {
   "cell_type": "markdown",
   "metadata": {},
   "source": [
    "#### Data play tennis"
   ]
  },
  {
   "cell_type": "markdown",
   "metadata": {},
   "source": [
    "Karena training data berbentuk string maka harus dirubah menjadi bentuk integer dengan masing-masing fitur:\n",
    "\n",
    "outlook: {'sunny':0,'rainy':1,'overcast':2}<br>\n",
    "temperature: {'hot':0,'mild':1,'cool':2}<br>\n",
    "humidity: {'normal':0,'high':1}<br>\n",
    "windy: {'FALSE':0, 'TRUE':1}<br>\n",
    "play: {'no':0,'yes':1}"
   ]
  },
  {
   "cell_type": "code",
   "execution_count": null,
   "metadata": {},
   "outputs": [],
   "source": [
    "#Lokasi dapat diganti sesuai dengan lokasi file csv di direktori anda\n",
    "dfpt = pd.read_csv('/home/alghifari/Documents/Tucil2-AI/weather.nominal.csv',\n",
    "                  sep=',',\n",
    "                  header=None,\n",
    "                  names=['outlook','temperature', 'humidity', 'windy','play'])\n",
    "dfpt = dfpt[1:]\n",
    "\n",
    "#Convert str to int for prediction\n",
    "dfpt['outlook'] = dfpt.outlook.map({'sunny':0,'rainy':1,'overcast':2})\n",
    "dfpt['temperature'] = dfpt.temperature.map({'hot':0,'mild':1,'cool':2})\n",
    "dfpt['humidity'] = dfpt.humidity.map({'normal':0,'high':1})\n",
    "dfpt['windy'] = dfpt.windy.map({'FALSE':0, 'TRUE':1})\n",
    "dfpt['play'] = dfpt.play.map({'no':0,'yes':1})\n",
    "\n",
    "dfpt"
   ]
  },
  {
   "cell_type": "code",
   "execution_count": null,
   "metadata": {},
   "outputs": [],
   "source": [
    "dfpt_data = dfpt.iloc[:,0:4].values\n",
    "dfpt_data"
   ]
  },
  {
   "cell_type": "markdown",
   "metadata": {},
   "source": [
    "#### Play tennis target"
   ]
  },
  {
   "cell_type": "code",
   "execution_count": null,
   "metadata": {},
   "outputs": [],
   "source": [
    "dfpt_target = dfpt.iloc[:, [4]].values.ravel()\n",
    "dfpt_target"
   ]
  },
  {
   "cell_type": "markdown",
   "metadata": {},
   "source": [
    "## 3. Pembelajaran Dataset Iris dengan Skema Full Training"
   ]
  },
  {
   "cell_type": "markdown",
   "metadata": {},
   "source": [
    "### 3.1 Naïve Bayes"
   ]
  },
  {
   "cell_type": "code",
   "execution_count": null,
   "metadata": {},
   "outputs": [],
   "source": [
    "iris = gnb.fit(dfiris.data, dfiris.target)\n",
    "print(\"Model: \")\n",
    "print(\"Probabilitas tiap kelas: \")\n",
    "print(iris.class_prior_)\n",
    "print\n",
    "print(\"Rata-rata fitur per kelas: \")\n",
    "print(iris.theta_)\n",
    "print\n",
    "print(\"Probabilitas tiap fitur bila diberikan kelas: \")\n",
    "print(iris.sigma_)"
   ]
  },
  {
   "cell_type": "markdown",
   "metadata": {},
   "source": [
    "### 3.2 Decision Tree Learning"
   ]
  },
  {
   "cell_type": "code",
   "execution_count": null,
   "metadata": {},
   "outputs": [],
   "source": [
    "dtlClassifierFullTraining = dtl.fit(dfiris.data, dfiris.target)\n",
    "\n",
    "dot_data = tree.export_graphviz(dtlClassifierFullTraining, out_file=None, \n",
    "                         feature_names=dfiris.feature_names,  \n",
    "                         class_names=dfiris.target_names,  \n",
    "                         filled=True, rounded=True,  \n",
    "                         special_characters=True)\n",
    "\n",
    "graph = graphviz.Source(dot_data)\n"
   ]
  },
  {
   "cell_type": "code",
   "execution_count": null,
   "metadata": {},
   "outputs": [],
   "source": [
    "# Export to iris.pdf\n",
    "graph.render(\"iris\")"
   ]
  },
  {
   "cell_type": "code",
   "execution_count": null,
   "metadata": {},
   "outputs": [],
   "source": [
    "# Visualize decision tree learning model\n",
    "graph "
   ]
  },
  {
   "cell_type": "markdown",
   "metadata": {},
   "source": [
    "### 3.3 *kNN*"
   ]
  },
  {
   "cell_type": "markdown",
   "metadata": {},
   "source": [
    "Pada *k-Nearest Neighbor* (*kNN*) tidak menghasilkan model."
   ]
  },
  {
   "cell_type": "code",
   "execution_count": null,
   "metadata": {},
   "outputs": [],
   "source": [
    "kNN.fit(dfiris.data, dfiris.target)"
   ]
  },
  {
   "cell_type": "markdown",
   "metadata": {},
   "source": [
    "### 3.4 Neural Network MLP"
   ]
  },
  {
   "cell_type": "code",
   "execution_count": null,
   "metadata": {},
   "outputs": [],
   "source": [
    "mlp.fit(dfiris.data, dfiris.target)"
   ]
  },
  {
   "cell_type": "markdown",
   "metadata": {},
   "source": [
    "## 4. Pembelajaran Dataset Iris dengan Skema Split Training 90%, Test 10%, dan Menampilkan kinerja serta confusion matrix\n"
   ]
  },
  {
   "cell_type": "markdown",
   "metadata": {},
   "source": [
    "### 4.1 Membagi dataset menjadi 10% untuk Test"
   ]
  },
  {
   "cell_type": "code",
   "execution_count": null,
   "metadata": {},
   "outputs": [],
   "source": [
    "X_train, X_test, y_train, y_test= train_test_split(dfiris.data, dfiris.target, test_size=0.1)"
   ]
  },
  {
   "cell_type": "markdown",
   "metadata": {},
   "source": [
    "### 4.2 Naïve Bayes"
   ]
  },
  {
   "cell_type": "code",
   "execution_count": null,
   "metadata": {},
   "outputs": [],
   "source": [
    "bayes_model = gnb.fit(X_train, y_train)\n",
    "pred_bayes = bayes_model.predict(X_test)\n",
    "precision = metrics.precision_score(y_test, pred_bayes, average=None) * 100\n",
    "\n",
    "print(\"Kinerja: \")\n",
    "print(\"\\t1. Akurasi: %f\" % (np.mean(pred_bayes == y_test) * 100) + \"%\")\n",
    "print(\"\\t2. Presisi tiap kelas:\")\n",
    "for i in range(3):\n",
    "    print(\"\\t\\t\" + dfiris.target_names[i] + \": \" + str(precision[i]) + \"%\")\n",
    "print\n",
    "\n",
    "print\n",
    "print(\"Confusion Matrix: \")\n",
    "print(metrics.confusion_matrix(y_test, pred_bayes))  "
   ]
  },
  {
   "cell_type": "markdown",
   "metadata": {},
   "source": [
    "### 4.3 Decision Tree Learning"
   ]
  },
  {
   "cell_type": "code",
   "execution_count": null,
   "metadata": {},
   "outputs": [],
   "source": [
    "dtl.fit(X_train, y_train)\n",
    "y_pred_dtl = dtl.predict(X_test)\n",
    "precision = metrics.precision_score(y_test, y_pred_dtl, average=None) * 100\n",
    "\n",
    "print(\"Kinerja: \")\n",
    "print(\"\\t1. Akurasi: %f\" % (np.mean(y_pred_dtl == y_test) * 100) + \"%\")\n",
    "print(\"\\t2. Presisi tiap kelas:\")\n",
    "for i in range(3):\n",
    "    print(\"\\t\\t\" + dfiris.target_names[i] + \": \" + str(precision[i]) + \"%\")\n",
    "print\n",
    "\n",
    "print\n",
    "print(\"Confusion Matrix: \")\n",
    "print(metrics.confusion_matrix(y_test, y_pred_dtl))  "
   ]
  },
  {
   "cell_type": "markdown",
   "metadata": {},
   "source": [
    "### 4.4 *kNN*"
   ]
  },
  {
   "cell_type": "code",
   "execution_count": null,
   "metadata": {},
   "outputs": [],
   "source": [
    "kNN.fit(X_train, y_train)\n",
    "pred_knn = kNN.predict(X_test)\n",
    "precision = metrics.precision_score(y_test, pred_knn, average=None) * 100\n",
    "\n",
    "print(\"Kinerja: \")\n",
    "print(\"\\t1. Akurasi: %f\" % (np.mean(pred_knn == y_test) * 100) + \"%\")\n",
    "print(\"\\t2. Presisi tiap kelas:\")\n",
    "for i in range(3):\n",
    "    print(\"\\t\\t\" + dfiris.target_names[i] + \": \" + str(precision[i]) + \"%\")\n",
    "print\n",
    "\n",
    "print\n",
    "print(\"Confusion Matrix: \")\n",
    "print(metrics.confusion_matrix(y_test, pred_bayes))  "
   ]
  },
  {
   "cell_type": "markdown",
   "metadata": {},
   "source": [
    "### 4.5 Neural Network MLP"
   ]
  },
  {
   "cell_type": "code",
   "execution_count": null,
   "metadata": {},
   "outputs": [],
   "source": [
    "mlp.fit(X_train, y_train)\n",
    "\n",
    "y_pred_mlp = mlp.predict(X_test)\n",
    "precision = metrics.precision_score(y_test, y_pred_mlp, average=None) * 100\n",
    "\n",
    "print(\"Kinerja: \")\n",
    "print(\"\\t1. Akurasi: %f\" % (np.mean(y_pred_mlp == y_test) * 100) + \"%\")\n",
    "print(\"\\t2. Presisi tiap kelas:\")\n",
    "for i in range(3):\n",
    "    print(\"\\t\\t\" + dfiris.target_names[i] + \": \" + str(precision[i]) + \"%\")\n",
    "print\n",
    "\n",
    "print\n",
    "print(\"Confusion Matrix: \")\n",
    "print(metrics.confusion_matrix(y_test, y_pred_mlp))  "
   ]
  },
  {
   "cell_type": "markdown",
   "metadata": {},
   "source": [
    "## 5. Pembelajaran Dataset Iris dengan Skema 10-Fold Cross Validation, dan menampilkan kinerjanya."
   ]
  },
  {
   "cell_type": "markdown",
   "metadata": {},
   "source": [
    "### 5.1 Naïve Bayes"
   ]
  },
  {
   "cell_type": "code",
   "execution_count": null,
   "metadata": {},
   "outputs": [],
   "source": [
    "scores = cross_val_score(gnb, dfiris.data, dfiris.target, cv=10)\n",
    "\n",
    "i = 1\n",
    "print(\"Kinerja: \")\n",
    "for score in scores:\n",
    "    print(\"Fold ke-%d\" % i + \" = %f\" % score)\n",
    "    i+=1\n",
    "print\n",
    "print(\"Rata-rata = %f\"% np.mean(scores))"
   ]
  },
  {
   "cell_type": "markdown",
   "metadata": {},
   "source": [
    "### 5.2 Decision Tree Learning"
   ]
  },
  {
   "cell_type": "code",
   "execution_count": null,
   "metadata": {},
   "outputs": [],
   "source": [
    "dtl = tree.DecisionTreeClassifier()\n",
    "scores = cross_val_score(dtl, dfiris.data, dfiris.target, cv=10)\n",
    "\n",
    "i = 1\n",
    "print(\"Kinerja: \")\n",
    "for score in scores:\n",
    "    print(\"Fold ke-%d\" % i + \" = %f\" % score)\n",
    "    i+=1\n",
    "print\n",
    "print(\"Rata-rata = %f\"% np.mean(scores))"
   ]
  },
  {
   "cell_type": "markdown",
   "metadata": {},
   "source": [
    "### 5.3 *kNN*"
   ]
  },
  {
   "cell_type": "code",
   "execution_count": null,
   "metadata": {},
   "outputs": [],
   "source": [
    "scores = cross_val_score(kNN, dfiris.data, dfiris.target, cv=10)\n",
    "\n",
    "i = 1\n",
    "print(\"Kinerja: \")\n",
    "for score in scores:\n",
    "    print(\"Fold ke-%d\" % i + \" = %f\" % score)\n",
    "    i+=1\n",
    "print\n",
    "print(\"Rata-rata = %f\"% np.mean(scores))"
   ]
  },
  {
   "cell_type": "markdown",
   "metadata": {},
   "source": [
    "### 5.4 Neural Network MLP"
   ]
  },
  {
   "cell_type": "code",
   "execution_count": null,
   "metadata": {},
   "outputs": [],
   "source": [
    "scores = cross_val_score(mlp, dfiris.data, dfiris.target, cv=10)\n",
    "\n",
    "i = 1\n",
    "print(\"Kinerja: \")\n",
    "for score in scores:\n",
    "    print(\"Fold ke-%d\" % i + \" = %f\" % score)\n",
    "    i+=1\n",
    "print\n",
    "print(\"Rata-rata = %f\"% np.mean(scores))"
   ]
  },
  {
   "cell_type": "markdown",
   "metadata": {},
   "source": [
    "## 6. Penyimpanan Model ke File External"
   ]
  },
  {
   "cell_type": "code",
   "execution_count": null,
   "metadata": {},
   "outputs": [],
   "source": [
    "joblib.dump(gnb, 'iris_NB.mdl')\n",
    "# joblib.dump(DT, 'iris_DT.mdl')\n",
    "joblib.dump(kNN, 'iris_kNN.mdl')\n",
    "# joblib.dump(MLP, 'iris_MLP.mdl')"
   ]
  },
  {
   "cell_type": "markdown",
   "metadata": {},
   "source": [
    "## 7. Sumber"
   ]
  },
  {
   "cell_type": "code",
   "execution_count": null,
   "metadata": {},
   "outputs": [],
   "source": []
  }
 ],
 "metadata": {
  "kernelspec": {
   "display_name": "Python 3",
   "language": "python",
   "name": "python3"
  },
  "language_info": {
   "codemirror_mode": {
    "name": "ipython",
    "version": 3
   },
   "file_extension": ".py",
   "mimetype": "text/x-python",
   "name": "python",
   "nbconvert_exporter": "python",
   "pygments_lexer": "ipython3",
   "version": "3.7.0"
  }
 },
 "nbformat": 4,
 "nbformat_minor": 2
}
