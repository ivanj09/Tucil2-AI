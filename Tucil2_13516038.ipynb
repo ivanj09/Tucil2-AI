{
 "cells": [
  {
   "cell_type": "markdown",
   "metadata": {},
   "source": [
    "# Tugas kecil 2: Eksplorasi Scikit-Learn pada Jupyter Notebook\n",
    "---\n",
    "Oleh: Ivan Jonathan (13516059) dan Mochamad Alghifari (13516038)"
   ]
  },
  {
   "cell_type": "markdown",
   "metadata": {},
   "source": [
    "## Overview\n",
    "    1. Import Library yang dibutuhkan\n",
    "    2. Pembacaan Dataset Training\n",
    "        2.1 Dataset Iris\n",
    "        2.2 Dataset Play Tennis\n",
    "    3. Pembelajaran Dataset Iris dengan Skema Full Training \n",
    "        3.1 Naïve Bayes\n",
    "        3.2 DTL\n",
    "        3.3 kNN\n",
    "        3.4 Neural Network MLP\n",
    "    4. Pembelajaran Dataset Iris dengan Skema Split Training 90%, test 10%, dan menampilkan kinerja serta confusion matrix\n",
    "        4.1 Membagi dataset menjadi 10% untuk Test\n",
    "        4.2 Naïve Bayes\n",
    "        4.3 DTL\n",
    "        4.4 kNN\n",
    "        4.5 Neural Network MLP\n",
    "    5. Pembelajaran Dataset Iris dengan Skema 10-Fold Cross Validation, dan menampilkan kinerjanya.\n",
    "        5.1 Naïve Bayes\n",
    "        5.2 DTL\n",
    "        5.3 kNN\n",
    "        5.4 Neural Network MLP\n",
    "    6. Penyimpanan Model ke File External\n",
    "    7. Membaca model dari File External\n",
    "    8. Membuat Instance Baru dengan memberikan nilai pada Atribut\n",
    "    9. Klasifikasi menggunakan Model\n",
    "        9.1 Naïve Bayes\n",
    "        9.2 DTL\n",
    "        9.3 kNN\n",
    "        9.4 Neural Network MLP\n",
    "    10. Sumber"
   ]
  },
  {
   "cell_type": "markdown",
   "metadata": {},
   "source": [
    "## 1. Import Library yang dibutuhkan"
   ]
  },
  {
   "cell_type": "code",
   "execution_count": 1,
   "metadata": {},
   "outputs": [],
   "source": [
    "#Import library untuk proses data\n",
    "import matplotlib as mpl\n",
    "import matplotlib.pyplot as plt\n",
    "from matplotlib.patches import Ellipse\n",
    "import numpy as np\n",
    "\n",
    "#Import library yang dibutuhkan untuk pembelajaran\n",
    "import pandas as pd\n",
    "from sklearn import datasets, metrics, neighbors, tree\n",
    "from sklearn.model_selection import train_test_split, cross_val_score\n",
    "from sklearn.naive_bayes import GaussianNB\n",
    "import graphviz \n",
    "from sklearn.neural_network import MLPClassifier\n",
    "from sklearn.externals import joblib"
   ]
  },
  {
   "cell_type": "code",
   "execution_count": 2,
   "metadata": {},
   "outputs": [],
   "source": [
    "gnb = GaussianNB()\n",
    "dtl = tree.DecisionTreeClassifier()\n",
    "kNN = neighbors.KNeighborsClassifier(5, weights='uniform')\n",
    "mlp = MLPClassifier(solver='lbfgs', alpha=1e-5,\n",
    "                     hidden_layer_sizes=(5, 2), random_state=1)"
   ]
  },
  {
   "cell_type": "markdown",
   "metadata": {},
   "source": [
    "## 2. Pembacaan Dataset Training"
   ]
  },
  {
   "cell_type": "markdown",
   "metadata": {},
   "source": [
    "### 2.1 Dataset Iris"
   ]
  },
  {
   "cell_type": "code",
   "execution_count": 3,
   "metadata": {},
   "outputs": [],
   "source": [
    "dfiris = datasets.load_iris()"
   ]
  },
  {
   "cell_type": "markdown",
   "metadata": {},
   "source": [
    "#### Iris attributes"
   ]
  },
  {
   "cell_type": "code",
   "execution_count": 4,
   "metadata": {},
   "outputs": [
    {
     "data": {
      "text/plain": [
       "['sepal length (cm)',\n",
       " 'sepal width (cm)',\n",
       " 'petal length (cm)',\n",
       " 'petal width (cm)']"
      ]
     },
     "execution_count": 4,
     "metadata": {},
     "output_type": "execute_result"
    }
   ],
   "source": [
    "dfiris.feature_names"
   ]
  },
  {
   "cell_type": "markdown",
   "metadata": {},
   "source": [
    "#### Iris data"
   ]
  },
  {
   "cell_type": "code",
   "execution_count": 5,
   "metadata": {},
   "outputs": [
    {
     "data": {
      "text/plain": [
       "array([[5.1, 3.5, 1.4, 0.2],\n",
       "       [4.9, 3. , 1.4, 0.2],\n",
       "       [4.7, 3.2, 1.3, 0.2],\n",
       "       [4.6, 3.1, 1.5, 0.2],\n",
       "       [5. , 3.6, 1.4, 0.2],\n",
       "       [5.4, 3.9, 1.7, 0.4],\n",
       "       [4.6, 3.4, 1.4, 0.3],\n",
       "       [5. , 3.4, 1.5, 0.2],\n",
       "       [4.4, 2.9, 1.4, 0.2],\n",
       "       [4.9, 3.1, 1.5, 0.1],\n",
       "       [5.4, 3.7, 1.5, 0.2],\n",
       "       [4.8, 3.4, 1.6, 0.2],\n",
       "       [4.8, 3. , 1.4, 0.1],\n",
       "       [4.3, 3. , 1.1, 0.1],\n",
       "       [5.8, 4. , 1.2, 0.2],\n",
       "       [5.7, 4.4, 1.5, 0.4],\n",
       "       [5.4, 3.9, 1.3, 0.4],\n",
       "       [5.1, 3.5, 1.4, 0.3],\n",
       "       [5.7, 3.8, 1.7, 0.3],\n",
       "       [5.1, 3.8, 1.5, 0.3],\n",
       "       [5.4, 3.4, 1.7, 0.2],\n",
       "       [5.1, 3.7, 1.5, 0.4],\n",
       "       [4.6, 3.6, 1. , 0.2],\n",
       "       [5.1, 3.3, 1.7, 0.5],\n",
       "       [4.8, 3.4, 1.9, 0.2],\n",
       "       [5. , 3. , 1.6, 0.2],\n",
       "       [5. , 3.4, 1.6, 0.4],\n",
       "       [5.2, 3.5, 1.5, 0.2],\n",
       "       [5.2, 3.4, 1.4, 0.2],\n",
       "       [4.7, 3.2, 1.6, 0.2],\n",
       "       [4.8, 3.1, 1.6, 0.2],\n",
       "       [5.4, 3.4, 1.5, 0.4],\n",
       "       [5.2, 4.1, 1.5, 0.1],\n",
       "       [5.5, 4.2, 1.4, 0.2],\n",
       "       [4.9, 3.1, 1.5, 0.1],\n",
       "       [5. , 3.2, 1.2, 0.2],\n",
       "       [5.5, 3.5, 1.3, 0.2],\n",
       "       [4.9, 3.1, 1.5, 0.1],\n",
       "       [4.4, 3. , 1.3, 0.2],\n",
       "       [5.1, 3.4, 1.5, 0.2],\n",
       "       [5. , 3.5, 1.3, 0.3],\n",
       "       [4.5, 2.3, 1.3, 0.3],\n",
       "       [4.4, 3.2, 1.3, 0.2],\n",
       "       [5. , 3.5, 1.6, 0.6],\n",
       "       [5.1, 3.8, 1.9, 0.4],\n",
       "       [4.8, 3. , 1.4, 0.3],\n",
       "       [5.1, 3.8, 1.6, 0.2],\n",
       "       [4.6, 3.2, 1.4, 0.2],\n",
       "       [5.3, 3.7, 1.5, 0.2],\n",
       "       [5. , 3.3, 1.4, 0.2],\n",
       "       [7. , 3.2, 4.7, 1.4],\n",
       "       [6.4, 3.2, 4.5, 1.5],\n",
       "       [6.9, 3.1, 4.9, 1.5],\n",
       "       [5.5, 2.3, 4. , 1.3],\n",
       "       [6.5, 2.8, 4.6, 1.5],\n",
       "       [5.7, 2.8, 4.5, 1.3],\n",
       "       [6.3, 3.3, 4.7, 1.6],\n",
       "       [4.9, 2.4, 3.3, 1. ],\n",
       "       [6.6, 2.9, 4.6, 1.3],\n",
       "       [5.2, 2.7, 3.9, 1.4],\n",
       "       [5. , 2. , 3.5, 1. ],\n",
       "       [5.9, 3. , 4.2, 1.5],\n",
       "       [6. , 2.2, 4. , 1. ],\n",
       "       [6.1, 2.9, 4.7, 1.4],\n",
       "       [5.6, 2.9, 3.6, 1.3],\n",
       "       [6.7, 3.1, 4.4, 1.4],\n",
       "       [5.6, 3. , 4.5, 1.5],\n",
       "       [5.8, 2.7, 4.1, 1. ],\n",
       "       [6.2, 2.2, 4.5, 1.5],\n",
       "       [5.6, 2.5, 3.9, 1.1],\n",
       "       [5.9, 3.2, 4.8, 1.8],\n",
       "       [6.1, 2.8, 4. , 1.3],\n",
       "       [6.3, 2.5, 4.9, 1.5],\n",
       "       [6.1, 2.8, 4.7, 1.2],\n",
       "       [6.4, 2.9, 4.3, 1.3],\n",
       "       [6.6, 3. , 4.4, 1.4],\n",
       "       [6.8, 2.8, 4.8, 1.4],\n",
       "       [6.7, 3. , 5. , 1.7],\n",
       "       [6. , 2.9, 4.5, 1.5],\n",
       "       [5.7, 2.6, 3.5, 1. ],\n",
       "       [5.5, 2.4, 3.8, 1.1],\n",
       "       [5.5, 2.4, 3.7, 1. ],\n",
       "       [5.8, 2.7, 3.9, 1.2],\n",
       "       [6. , 2.7, 5.1, 1.6],\n",
       "       [5.4, 3. , 4.5, 1.5],\n",
       "       [6. , 3.4, 4.5, 1.6],\n",
       "       [6.7, 3.1, 4.7, 1.5],\n",
       "       [6.3, 2.3, 4.4, 1.3],\n",
       "       [5.6, 3. , 4.1, 1.3],\n",
       "       [5.5, 2.5, 4. , 1.3],\n",
       "       [5.5, 2.6, 4.4, 1.2],\n",
       "       [6.1, 3. , 4.6, 1.4],\n",
       "       [5.8, 2.6, 4. , 1.2],\n",
       "       [5. , 2.3, 3.3, 1. ],\n",
       "       [5.6, 2.7, 4.2, 1.3],\n",
       "       [5.7, 3. , 4.2, 1.2],\n",
       "       [5.7, 2.9, 4.2, 1.3],\n",
       "       [6.2, 2.9, 4.3, 1.3],\n",
       "       [5.1, 2.5, 3. , 1.1],\n",
       "       [5.7, 2.8, 4.1, 1.3],\n",
       "       [6.3, 3.3, 6. , 2.5],\n",
       "       [5.8, 2.7, 5.1, 1.9],\n",
       "       [7.1, 3. , 5.9, 2.1],\n",
       "       [6.3, 2.9, 5.6, 1.8],\n",
       "       [6.5, 3. , 5.8, 2.2],\n",
       "       [7.6, 3. , 6.6, 2.1],\n",
       "       [4.9, 2.5, 4.5, 1.7],\n",
       "       [7.3, 2.9, 6.3, 1.8],\n",
       "       [6.7, 2.5, 5.8, 1.8],\n",
       "       [7.2, 3.6, 6.1, 2.5],\n",
       "       [6.5, 3.2, 5.1, 2. ],\n",
       "       [6.4, 2.7, 5.3, 1.9],\n",
       "       [6.8, 3. , 5.5, 2.1],\n",
       "       [5.7, 2.5, 5. , 2. ],\n",
       "       [5.8, 2.8, 5.1, 2.4],\n",
       "       [6.4, 3.2, 5.3, 2.3],\n",
       "       [6.5, 3. , 5.5, 1.8],\n",
       "       [7.7, 3.8, 6.7, 2.2],\n",
       "       [7.7, 2.6, 6.9, 2.3],\n",
       "       [6. , 2.2, 5. , 1.5],\n",
       "       [6.9, 3.2, 5.7, 2.3],\n",
       "       [5.6, 2.8, 4.9, 2. ],\n",
       "       [7.7, 2.8, 6.7, 2. ],\n",
       "       [6.3, 2.7, 4.9, 1.8],\n",
       "       [6.7, 3.3, 5.7, 2.1],\n",
       "       [7.2, 3.2, 6. , 1.8],\n",
       "       [6.2, 2.8, 4.8, 1.8],\n",
       "       [6.1, 3. , 4.9, 1.8],\n",
       "       [6.4, 2.8, 5.6, 2.1],\n",
       "       [7.2, 3. , 5.8, 1.6],\n",
       "       [7.4, 2.8, 6.1, 1.9],\n",
       "       [7.9, 3.8, 6.4, 2. ],\n",
       "       [6.4, 2.8, 5.6, 2.2],\n",
       "       [6.3, 2.8, 5.1, 1.5],\n",
       "       [6.1, 2.6, 5.6, 1.4],\n",
       "       [7.7, 3. , 6.1, 2.3],\n",
       "       [6.3, 3.4, 5.6, 2.4],\n",
       "       [6.4, 3.1, 5.5, 1.8],\n",
       "       [6. , 3. , 4.8, 1.8],\n",
       "       [6.9, 3.1, 5.4, 2.1],\n",
       "       [6.7, 3.1, 5.6, 2.4],\n",
       "       [6.9, 3.1, 5.1, 2.3],\n",
       "       [5.8, 2.7, 5.1, 1.9],\n",
       "       [6.8, 3.2, 5.9, 2.3],\n",
       "       [6.7, 3.3, 5.7, 2.5],\n",
       "       [6.7, 3. , 5.2, 2.3],\n",
       "       [6.3, 2.5, 5. , 1.9],\n",
       "       [6.5, 3. , 5.2, 2. ],\n",
       "       [6.2, 3.4, 5.4, 2.3],\n",
       "       [5.9, 3. , 5.1, 1.8]])"
      ]
     },
     "execution_count": 5,
     "metadata": {},
     "output_type": "execute_result"
    }
   ],
   "source": [
    "dfiris.data"
   ]
  },
  {
   "cell_type": "markdown",
   "metadata": {},
   "source": [
    "#### Iris target"
   ]
  },
  {
   "cell_type": "code",
   "execution_count": 6,
   "metadata": {
    "scrolled": true
   },
   "outputs": [
    {
     "data": {
      "text/plain": [
       "array([0, 0, 0, 0, 0, 0, 0, 0, 0, 0, 0, 0, 0, 0, 0, 0, 0, 0, 0, 0, 0, 0,\n",
       "       0, 0, 0, 0, 0, 0, 0, 0, 0, 0, 0, 0, 0, 0, 0, 0, 0, 0, 0, 0, 0, 0,\n",
       "       0, 0, 0, 0, 0, 0, 1, 1, 1, 1, 1, 1, 1, 1, 1, 1, 1, 1, 1, 1, 1, 1,\n",
       "       1, 1, 1, 1, 1, 1, 1, 1, 1, 1, 1, 1, 1, 1, 1, 1, 1, 1, 1, 1, 1, 1,\n",
       "       1, 1, 1, 1, 1, 1, 1, 1, 1, 1, 1, 1, 2, 2, 2, 2, 2, 2, 2, 2, 2, 2,\n",
       "       2, 2, 2, 2, 2, 2, 2, 2, 2, 2, 2, 2, 2, 2, 2, 2, 2, 2, 2, 2, 2, 2,\n",
       "       2, 2, 2, 2, 2, 2, 2, 2, 2, 2, 2, 2, 2, 2, 2, 2, 2, 2])"
      ]
     },
     "execution_count": 6,
     "metadata": {},
     "output_type": "execute_result"
    }
   ],
   "source": [
    "dfiris.target"
   ]
  },
  {
   "cell_type": "markdown",
   "metadata": {},
   "source": [
    "### 2.2 Dataset Play Tennis"
   ]
  },
  {
   "cell_type": "markdown",
   "metadata": {},
   "source": [
    "#### Data play tennis"
   ]
  },
  {
   "cell_type": "markdown",
   "metadata": {},
   "source": [
    "Karena training data berbentuk string maka harus dirubah menjadi bentuk integer dengan masing-masing fitur:\n",
    "\n",
    "outlook: {'sunny':0,'rainy':1,'overcast':2}<br>\n",
    "temperature: {'hot':0,'mild':1,'cool':2}<br>\n",
    "humidity: {'normal':0,'high':1}<br>\n",
    "windy: {'FALSE':0, 'TRUE':1}<br>\n",
    "play: {'no':0,'yes':1}"
   ]
  },
  {
   "cell_type": "code",
   "execution_count": 7,
   "metadata": {},
   "outputs": [
    {
     "data": {
      "text/html": [
       "<div>\n",
       "<style scoped>\n",
       "    .dataframe tbody tr th:only-of-type {\n",
       "        vertical-align: middle;\n",
       "    }\n",
       "\n",
       "    .dataframe tbody tr th {\n",
       "        vertical-align: top;\n",
       "    }\n",
       "\n",
       "    .dataframe thead th {\n",
       "        text-align: right;\n",
       "    }\n",
       "</style>\n",
       "<table border=\"1\" class=\"dataframe\">\n",
       "  <thead>\n",
       "    <tr style=\"text-align: right;\">\n",
       "      <th></th>\n",
       "      <th>outlook</th>\n",
       "      <th>temperature</th>\n",
       "      <th>humidity</th>\n",
       "      <th>windy</th>\n",
       "      <th>play</th>\n",
       "    </tr>\n",
       "  </thead>\n",
       "  <tbody>\n",
       "    <tr>\n",
       "      <th>1</th>\n",
       "      <td>0</td>\n",
       "      <td>0</td>\n",
       "      <td>1</td>\n",
       "      <td>0</td>\n",
       "      <td>0</td>\n",
       "    </tr>\n",
       "    <tr>\n",
       "      <th>2</th>\n",
       "      <td>0</td>\n",
       "      <td>0</td>\n",
       "      <td>1</td>\n",
       "      <td>1</td>\n",
       "      <td>0</td>\n",
       "    </tr>\n",
       "    <tr>\n",
       "      <th>3</th>\n",
       "      <td>2</td>\n",
       "      <td>0</td>\n",
       "      <td>1</td>\n",
       "      <td>0</td>\n",
       "      <td>1</td>\n",
       "    </tr>\n",
       "    <tr>\n",
       "      <th>4</th>\n",
       "      <td>1</td>\n",
       "      <td>1</td>\n",
       "      <td>1</td>\n",
       "      <td>0</td>\n",
       "      <td>1</td>\n",
       "    </tr>\n",
       "    <tr>\n",
       "      <th>5</th>\n",
       "      <td>1</td>\n",
       "      <td>2</td>\n",
       "      <td>0</td>\n",
       "      <td>0</td>\n",
       "      <td>1</td>\n",
       "    </tr>\n",
       "    <tr>\n",
       "      <th>6</th>\n",
       "      <td>1</td>\n",
       "      <td>2</td>\n",
       "      <td>0</td>\n",
       "      <td>1</td>\n",
       "      <td>0</td>\n",
       "    </tr>\n",
       "    <tr>\n",
       "      <th>7</th>\n",
       "      <td>2</td>\n",
       "      <td>2</td>\n",
       "      <td>0</td>\n",
       "      <td>1</td>\n",
       "      <td>1</td>\n",
       "    </tr>\n",
       "    <tr>\n",
       "      <th>8</th>\n",
       "      <td>0</td>\n",
       "      <td>1</td>\n",
       "      <td>1</td>\n",
       "      <td>0</td>\n",
       "      <td>0</td>\n",
       "    </tr>\n",
       "    <tr>\n",
       "      <th>9</th>\n",
       "      <td>0</td>\n",
       "      <td>2</td>\n",
       "      <td>0</td>\n",
       "      <td>0</td>\n",
       "      <td>1</td>\n",
       "    </tr>\n",
       "    <tr>\n",
       "      <th>10</th>\n",
       "      <td>1</td>\n",
       "      <td>1</td>\n",
       "      <td>0</td>\n",
       "      <td>0</td>\n",
       "      <td>1</td>\n",
       "    </tr>\n",
       "    <tr>\n",
       "      <th>11</th>\n",
       "      <td>0</td>\n",
       "      <td>1</td>\n",
       "      <td>0</td>\n",
       "      <td>1</td>\n",
       "      <td>1</td>\n",
       "    </tr>\n",
       "    <tr>\n",
       "      <th>12</th>\n",
       "      <td>2</td>\n",
       "      <td>1</td>\n",
       "      <td>1</td>\n",
       "      <td>1</td>\n",
       "      <td>1</td>\n",
       "    </tr>\n",
       "    <tr>\n",
       "      <th>13</th>\n",
       "      <td>2</td>\n",
       "      <td>0</td>\n",
       "      <td>0</td>\n",
       "      <td>0</td>\n",
       "      <td>1</td>\n",
       "    </tr>\n",
       "    <tr>\n",
       "      <th>14</th>\n",
       "      <td>1</td>\n",
       "      <td>1</td>\n",
       "      <td>1</td>\n",
       "      <td>1</td>\n",
       "      <td>0</td>\n",
       "    </tr>\n",
       "  </tbody>\n",
       "</table>\n",
       "</div>"
      ],
      "text/plain": [
       "    outlook  temperature  humidity  windy  play\n",
       "1         0            0         1      0     0\n",
       "2         0            0         1      1     0\n",
       "3         2            0         1      0     1\n",
       "4         1            1         1      0     1\n",
       "5         1            2         0      0     1\n",
       "6         1            2         0      1     0\n",
       "7         2            2         0      1     1\n",
       "8         0            1         1      0     0\n",
       "9         0            2         0      0     1\n",
       "10        1            1         0      0     1\n",
       "11        0            1         0      1     1\n",
       "12        2            1         1      1     1\n",
       "13        2            0         0      0     1\n",
       "14        1            1         1      1     0"
      ]
     },
     "execution_count": 7,
     "metadata": {},
     "output_type": "execute_result"
    }
   ],
   "source": [
    "#Lokasi dapat diganti sesuai dengan lokasi file csv di direktori anda\n",
    "#/home/alghifari/Documents/Tucil2-AI/weather.nominal.csv\n",
    "dfpt = pd.read_csv('/home/mark/Documents/File Semester 5/Artificial Intelligence/Tucil 2/weather.nominal.csv',\n",
    "                  sep=',',\n",
    "                  header=None,\n",
    "                  names=['outlook','temperature', 'humidity', 'windy','play'])\n",
    "dfpt = dfpt[1:]\n",
    "\n",
    "#Convert str to int for prediction\n",
    "dfpt['outlook'] = dfpt.outlook.map({'sunny':0,'rainy':1,'overcast':2})\n",
    "dfpt['temperature'] = dfpt.temperature.map({'hot':0,'mild':1,'cool':2})\n",
    "dfpt['humidity'] = dfpt.humidity.map({'normal':0,'high':1})\n",
    "dfpt['windy'] = dfpt.windy.map({'FALSE':0, 'TRUE':1})\n",
    "dfpt['play'] = dfpt.play.map({'no':0,'yes':1})\n",
    "\n",
    "dfpt"
   ]
  },
  {
   "cell_type": "code",
   "execution_count": 8,
   "metadata": {},
   "outputs": [
    {
     "data": {
      "text/plain": [
       "array([[0, 0, 1, 0],\n",
       "       [0, 0, 1, 1],\n",
       "       [2, 0, 1, 0],\n",
       "       [1, 1, 1, 0],\n",
       "       [1, 2, 0, 0],\n",
       "       [1, 2, 0, 1],\n",
       "       [2, 2, 0, 1],\n",
       "       [0, 1, 1, 0],\n",
       "       [0, 2, 0, 0],\n",
       "       [1, 1, 0, 0],\n",
       "       [0, 1, 0, 1],\n",
       "       [2, 1, 1, 1],\n",
       "       [2, 0, 0, 0],\n",
       "       [1, 1, 1, 1]])"
      ]
     },
     "execution_count": 8,
     "metadata": {},
     "output_type": "execute_result"
    }
   ],
   "source": [
    "dfpt_data = dfpt.iloc[:,0:4].values\n",
    "dfpt_data"
   ]
  },
  {
   "cell_type": "markdown",
   "metadata": {},
   "source": [
    "#### Play tennis target"
   ]
  },
  {
   "cell_type": "code",
   "execution_count": 9,
   "metadata": {},
   "outputs": [
    {
     "data": {
      "text/plain": [
       "array([0, 0, 1, 1, 1, 0, 1, 0, 1, 1, 1, 1, 1, 0])"
      ]
     },
     "execution_count": 9,
     "metadata": {},
     "output_type": "execute_result"
    }
   ],
   "source": [
    "dfpt_target = dfpt.iloc[:, [4]].values.ravel()\n",
    "dfpt_target"
   ]
  },
  {
   "cell_type": "markdown",
   "metadata": {},
   "source": [
    "## 3. Pembelajaran Dataset Iris dengan Skema Full Training"
   ]
  },
  {
   "cell_type": "markdown",
   "metadata": {},
   "source": [
    "### 3.1 Naïve Bayes"
   ]
  },
  {
   "cell_type": "code",
   "execution_count": 10,
   "metadata": {},
   "outputs": [
    {
     "name": "stdout",
     "output_type": "stream",
     "text": [
      "Model: \n",
      "Probabilitas tiap kelas: \n",
      "[0.33333333 0.33333333 0.33333333]\n",
      "\n",
      "Rata-rata fitur per kelas: \n",
      "[[5.006 3.418 1.464 0.244]\n",
      " [5.936 2.77  4.26  1.326]\n",
      " [6.588 2.974 5.552 2.026]]\n",
      "\n",
      "Probabilitas tiap fitur bila diberikan kelas: \n",
      "[[0.121764 0.142276 0.029504 0.011264]\n",
      " [0.261104 0.0965   0.2164   0.038324]\n",
      " [0.396256 0.101924 0.298496 0.073924]]\n"
     ]
    }
   ],
   "source": [
    "iris = gnb.fit(dfiris.data, dfiris.target)\n",
    "print(\"Model: \")\n",
    "print(\"Probabilitas tiap kelas: \")\n",
    "print(iris.class_prior_)\n",
    "print\n",
    "print(\"Rata-rata fitur per kelas: \")\n",
    "print(iris.theta_)\n",
    "print\n",
    "print(\"Probabilitas tiap fitur bila diberikan kelas: \")\n",
    "print(iris.sigma_)"
   ]
  },
  {
   "cell_type": "markdown",
   "metadata": {},
   "source": [
    "### 3.2 Decision Tree Learning"
   ]
  },
  {
   "cell_type": "code",
   "execution_count": 11,
   "metadata": {},
   "outputs": [],
   "source": [
    "dtl_model = dtl.fit(dfiris.data, dfiris.target)\n",
    "\n",
    "dot_data = tree.export_graphviz(dtl_model, out_file=None, \n",
    "                         feature_names=dfiris.feature_names,  \n",
    "                         class_names=dfiris.target_names,  \n",
    "                         filled=True, rounded=True,  \n",
    "                         special_characters=True)\n",
    "\n",
    "graph = graphviz.Source(dot_data)\n"
   ]
  },
  {
   "cell_type": "code",
   "execution_count": 12,
   "metadata": {},
   "outputs": [
    {
     "data": {
      "text/plain": [
       "'iris_dtl.pdf'"
      ]
     },
     "execution_count": 12,
     "metadata": {},
     "output_type": "execute_result"
    }
   ],
   "source": [
    "# Export to iris_dtl.pdf\n",
    "graph.render(\"iris_dtl\")"
   ]
  },
  {
   "cell_type": "code",
   "execution_count": 13,
   "metadata": {},
   "outputs": [
    {
     "data": {
      "image/svg+xml": [
       "<?xml version=\"1.0\" encoding=\"UTF-8\" standalone=\"no\"?>\n",
       "<!DOCTYPE svg PUBLIC \"-//W3C//DTD SVG 1.1//EN\"\n",
       " \"http://www.w3.org/Graphics/SVG/1.1/DTD/svg11.dtd\">\n",
       "<!-- Generated by graphviz version 2.40.1 (20161225.0304)\n",
       " -->\n",
       "<!-- Title: Tree Pages: 1 -->\n",
       "<svg width=\"857pt\" height=\"671pt\"\n",
       " viewBox=\"0.00 0.00 857.00 671.00\" xmlns=\"http://www.w3.org/2000/svg\" xmlns:xlink=\"http://www.w3.org/1999/xlink\">\n",
       "<g id=\"graph0\" class=\"graph\" transform=\"scale(1 1) rotate(0) translate(4 667)\">\n",
       "<title>Tree</title>\n",
       "<polygon fill=\"#ffffff\" stroke=\"transparent\" points=\"-4,4 -4,-667 853,-667 853,4 -4,4\"/>\n",
       "<!-- 0 -->\n",
       "<g id=\"node1\" class=\"node\">\n",
       "<title>0</title>\n",
       "<path fill=\"transparent\" stroke=\"#000000\" d=\"M517.5,-663C517.5,-663 381.5,-663 381.5,-663 375.5,-663 369.5,-657 369.5,-651 369.5,-651 369.5,-592 369.5,-592 369.5,-586 375.5,-580 381.5,-580 381.5,-580 517.5,-580 517.5,-580 523.5,-580 529.5,-586 529.5,-592 529.5,-592 529.5,-651 529.5,-651 529.5,-657 523.5,-663 517.5,-663\"/>\n",
       "<text text-anchor=\"start\" x=\"377.5\" y=\"-647.8\" font-family=\"Helvetica,sans-Serif\" font-size=\"14.00\" fill=\"#000000\">petal length (cm) ≤ 2.45</text>\n",
       "<text text-anchor=\"start\" x=\"414\" y=\"-632.8\" font-family=\"Helvetica,sans-Serif\" font-size=\"14.00\" fill=\"#000000\">gini = 0.667</text>\n",
       "<text text-anchor=\"start\" x=\"404.5\" y=\"-617.8\" font-family=\"Helvetica,sans-Serif\" font-size=\"14.00\" fill=\"#000000\">samples = 150</text>\n",
       "<text text-anchor=\"start\" x=\"391.5\" y=\"-602.8\" font-family=\"Helvetica,sans-Serif\" font-size=\"14.00\" fill=\"#000000\">value = [50, 50, 50]</text>\n",
       "<text text-anchor=\"start\" x=\"406\" y=\"-587.8\" font-family=\"Helvetica,sans-Serif\" font-size=\"14.00\" fill=\"#000000\">class = setosa</text>\n",
       "</g>\n",
       "<!-- 1 -->\n",
       "<g id=\"node2\" class=\"node\">\n",
       "<title>1</title>\n",
       "<path fill=\"#e58139\" stroke=\"#000000\" d=\"M419,-536.5C419,-536.5 326,-536.5 326,-536.5 320,-536.5 314,-530.5 314,-524.5 314,-524.5 314,-480.5 314,-480.5 314,-474.5 320,-468.5 326,-468.5 326,-468.5 419,-468.5 419,-468.5 425,-468.5 431,-474.5 431,-480.5 431,-480.5 431,-524.5 431,-524.5 431,-530.5 425,-536.5 419,-536.5\"/>\n",
       "<text text-anchor=\"start\" x=\"344.5\" y=\"-521.3\" font-family=\"Helvetica,sans-Serif\" font-size=\"14.00\" fill=\"#000000\">gini = 0.0</text>\n",
       "<text text-anchor=\"start\" x=\"331.5\" y=\"-506.3\" font-family=\"Helvetica,sans-Serif\" font-size=\"14.00\" fill=\"#000000\">samples = 50</text>\n",
       "<text text-anchor=\"start\" x=\"322\" y=\"-491.3\" font-family=\"Helvetica,sans-Serif\" font-size=\"14.00\" fill=\"#000000\">value = [50, 0, 0]</text>\n",
       "<text text-anchor=\"start\" x=\"329\" y=\"-476.3\" font-family=\"Helvetica,sans-Serif\" font-size=\"14.00\" fill=\"#000000\">class = setosa</text>\n",
       "</g>\n",
       "<!-- 0&#45;&gt;1 -->\n",
       "<g id=\"edge1\" class=\"edge\">\n",
       "<title>0&#45;&gt;1</title>\n",
       "<path fill=\"none\" stroke=\"#000000\" d=\"M422.5691,-579.8796C415.3117,-568.6636 407.4497,-556.5131 400.1535,-545.2372\"/>\n",
       "<polygon fill=\"#000000\" stroke=\"#000000\" points=\"403.0748,-543.3093 394.7038,-536.8149 397.1978,-547.112 403.0748,-543.3093\"/>\n",
       "<text text-anchor=\"middle\" x=\"389.4656\" y=\"-557.56\" font-family=\"Helvetica,sans-Serif\" font-size=\"14.00\" fill=\"#000000\">True</text>\n",
       "</g>\n",
       "<!-- 2 -->\n",
       "<g id=\"node3\" class=\"node\">\n",
       "<title>2</title>\n",
       "<path fill=\"transparent\" stroke=\"#000000\" d=\"M592,-544C592,-544 461,-544 461,-544 455,-544 449,-538 449,-532 449,-532 449,-473 449,-473 449,-467 455,-461 461,-461 461,-461 592,-461 592,-461 598,-461 604,-467 604,-473 604,-473 604,-532 604,-532 604,-538 598,-544 592,-544\"/>\n",
       "<text text-anchor=\"start\" x=\"457\" y=\"-528.8\" font-family=\"Helvetica,sans-Serif\" font-size=\"14.00\" fill=\"#000000\">petal width (cm) ≤ 1.75</text>\n",
       "<text text-anchor=\"start\" x=\"498.5\" y=\"-513.8\" font-family=\"Helvetica,sans-Serif\" font-size=\"14.00\" fill=\"#000000\">gini = 0.5</text>\n",
       "<text text-anchor=\"start\" x=\"481.5\" y=\"-498.8\" font-family=\"Helvetica,sans-Serif\" font-size=\"14.00\" fill=\"#000000\">samples = 100</text>\n",
       "<text text-anchor=\"start\" x=\"472\" y=\"-483.8\" font-family=\"Helvetica,sans-Serif\" font-size=\"14.00\" fill=\"#000000\">value = [0, 50, 50]</text>\n",
       "<text text-anchor=\"start\" x=\"474\" y=\"-468.8\" font-family=\"Helvetica,sans-Serif\" font-size=\"14.00\" fill=\"#000000\">class = versicolor</text>\n",
       "</g>\n",
       "<!-- 0&#45;&gt;2 -->\n",
       "<g id=\"edge2\" class=\"edge\">\n",
       "<title>0&#45;&gt;2</title>\n",
       "<path fill=\"none\" stroke=\"#000000\" d=\"M476.4309,-579.8796C482.0837,-571.1434 488.1033,-561.8404 493.9366,-552.8253\"/>\n",
       "<polygon fill=\"#000000\" stroke=\"#000000\" points=\"496.9601,-554.5952 499.4542,-544.2981 491.0831,-550.7924 496.9601,-554.5952\"/>\n",
       "<text text-anchor=\"middle\" x=\"504.6924\" y=\"-565.0431\" font-family=\"Helvetica,sans-Serif\" font-size=\"14.00\" fill=\"#000000\">False</text>\n",
       "</g>\n",
       "<!-- 3 -->\n",
       "<g id=\"node4\" class=\"node\">\n",
       "<title>3</title>\n",
       "<path fill=\"#39e581\" fill-opacity=\"0.898039\" stroke=\"#000000\" d=\"M482.5,-425C482.5,-425 346.5,-425 346.5,-425 340.5,-425 334.5,-419 334.5,-413 334.5,-413 334.5,-354 334.5,-354 334.5,-348 340.5,-342 346.5,-342 346.5,-342 482.5,-342 482.5,-342 488.5,-342 494.5,-348 494.5,-354 494.5,-354 494.5,-413 494.5,-413 494.5,-419 488.5,-425 482.5,-425\"/>\n",
       "<text text-anchor=\"start\" x=\"342.5\" y=\"-409.8\" font-family=\"Helvetica,sans-Serif\" font-size=\"14.00\" fill=\"#000000\">petal length (cm) ≤ 4.95</text>\n",
       "<text text-anchor=\"start\" x=\"379\" y=\"-394.8\" font-family=\"Helvetica,sans-Serif\" font-size=\"14.00\" fill=\"#000000\">gini = 0.168</text>\n",
       "<text text-anchor=\"start\" x=\"373.5\" y=\"-379.8\" font-family=\"Helvetica,sans-Serif\" font-size=\"14.00\" fill=\"#000000\">samples = 54</text>\n",
       "<text text-anchor=\"start\" x=\"364\" y=\"-364.8\" font-family=\"Helvetica,sans-Serif\" font-size=\"14.00\" fill=\"#000000\">value = [0, 49, 5]</text>\n",
       "<text text-anchor=\"start\" x=\"362\" y=\"-349.8\" font-family=\"Helvetica,sans-Serif\" font-size=\"14.00\" fill=\"#000000\">class = versicolor</text>\n",
       "</g>\n",
       "<!-- 2&#45;&gt;3 -->\n",
       "<g id=\"edge3\" class=\"edge\">\n",
       "<title>2&#45;&gt;3</title>\n",
       "<path fill=\"none\" stroke=\"#000000\" d=\"M487.3278,-460.8796C478.7665,-451.7832 469.6268,-442.0722 460.8168,-432.7116\"/>\n",
       "<polygon fill=\"#000000\" stroke=\"#000000\" points=\"463.2417,-430.1813 453.8394,-425.2981 458.1443,-434.9789 463.2417,-430.1813\"/>\n",
       "</g>\n",
       "<!-- 12 -->\n",
       "<g id=\"node13\" class=\"node\">\n",
       "<title>12</title>\n",
       "<path fill=\"#8139e5\" fill-opacity=\"0.976471\" stroke=\"#000000\" d=\"M706.5,-425C706.5,-425 570.5,-425 570.5,-425 564.5,-425 558.5,-419 558.5,-413 558.5,-413 558.5,-354 558.5,-354 558.5,-348 564.5,-342 570.5,-342 570.5,-342 706.5,-342 706.5,-342 712.5,-342 718.5,-348 718.5,-354 718.5,-354 718.5,-413 718.5,-413 718.5,-419 712.5,-425 706.5,-425\"/>\n",
       "<text text-anchor=\"start\" x=\"566.5\" y=\"-409.8\" font-family=\"Helvetica,sans-Serif\" font-size=\"14.00\" fill=\"#000000\">petal length (cm) ≤ 4.85</text>\n",
       "<text text-anchor=\"start\" x=\"603\" y=\"-394.8\" font-family=\"Helvetica,sans-Serif\" font-size=\"14.00\" fill=\"#000000\">gini = 0.043</text>\n",
       "<text text-anchor=\"start\" x=\"597.5\" y=\"-379.8\" font-family=\"Helvetica,sans-Serif\" font-size=\"14.00\" fill=\"#000000\">samples = 46</text>\n",
       "<text text-anchor=\"start\" x=\"588\" y=\"-364.8\" font-family=\"Helvetica,sans-Serif\" font-size=\"14.00\" fill=\"#000000\">value = [0, 1, 45]</text>\n",
       "<text text-anchor=\"start\" x=\"590\" y=\"-349.8\" font-family=\"Helvetica,sans-Serif\" font-size=\"14.00\" fill=\"#000000\">class = virginica</text>\n",
       "</g>\n",
       "<!-- 2&#45;&gt;12 -->\n",
       "<g id=\"edge12\" class=\"edge\">\n",
       "<title>2&#45;&gt;12</title>\n",
       "<path fill=\"none\" stroke=\"#000000\" d=\"M565.6722,-460.8796C574.2335,-451.7832 583.3732,-442.0722 592.1832,-432.7116\"/>\n",
       "<polygon fill=\"#000000\" stroke=\"#000000\" points=\"594.8557,-434.9789 599.1606,-425.2981 589.7583,-430.1813 594.8557,-434.9789\"/>\n",
       "</g>\n",
       "<!-- 4 -->\n",
       "<g id=\"node5\" class=\"node\">\n",
       "<title>4</title>\n",
       "<path fill=\"#39e581\" fill-opacity=\"0.980392\" stroke=\"#000000\" d=\"M261,-306C261,-306 130,-306 130,-306 124,-306 118,-300 118,-294 118,-294 118,-235 118,-235 118,-229 124,-223 130,-223 130,-223 261,-223 261,-223 267,-223 273,-229 273,-235 273,-235 273,-294 273,-294 273,-300 267,-306 261,-306\"/>\n",
       "<text text-anchor=\"start\" x=\"126\" y=\"-290.8\" font-family=\"Helvetica,sans-Serif\" font-size=\"14.00\" fill=\"#000000\">petal width (cm) ≤ 1.65</text>\n",
       "<text text-anchor=\"start\" x=\"160\" y=\"-275.8\" font-family=\"Helvetica,sans-Serif\" font-size=\"14.00\" fill=\"#000000\">gini = 0.041</text>\n",
       "<text text-anchor=\"start\" x=\"154.5\" y=\"-260.8\" font-family=\"Helvetica,sans-Serif\" font-size=\"14.00\" fill=\"#000000\">samples = 48</text>\n",
       "<text text-anchor=\"start\" x=\"145\" y=\"-245.8\" font-family=\"Helvetica,sans-Serif\" font-size=\"14.00\" fill=\"#000000\">value = [0, 47, 1]</text>\n",
       "<text text-anchor=\"start\" x=\"143\" y=\"-230.8\" font-family=\"Helvetica,sans-Serif\" font-size=\"14.00\" fill=\"#000000\">class = versicolor</text>\n",
       "</g>\n",
       "<!-- 3&#45;&gt;4 -->\n",
       "<g id=\"edge4\" class=\"edge\">\n",
       "<title>3&#45;&gt;4</title>\n",
       "<path fill=\"none\" stroke=\"#000000\" d=\"M337.9044,-341.8796C319.483,-331.8697 299.6918,-321.1156 280.8974,-310.9031\"/>\n",
       "<polygon fill=\"#000000\" stroke=\"#000000\" points=\"282.51,-307.7961 272.0523,-306.0969 279.1679,-313.9468 282.51,-307.7961\"/>\n",
       "</g>\n",
       "<!-- 7 -->\n",
       "<g id=\"node8\" class=\"node\">\n",
       "<title>7</title>\n",
       "<path fill=\"#8139e5\" fill-opacity=\"0.498039\" stroke=\"#000000\" d=\"M480,-306C480,-306 349,-306 349,-306 343,-306 337,-300 337,-294 337,-294 337,-235 337,-235 337,-229 343,-223 349,-223 349,-223 480,-223 480,-223 486,-223 492,-229 492,-235 492,-235 492,-294 492,-294 492,-300 486,-306 480,-306\"/>\n",
       "<text text-anchor=\"start\" x=\"345\" y=\"-290.8\" font-family=\"Helvetica,sans-Serif\" font-size=\"14.00\" fill=\"#000000\">petal width (cm) ≤ 1.55</text>\n",
       "<text text-anchor=\"start\" x=\"379\" y=\"-275.8\" font-family=\"Helvetica,sans-Serif\" font-size=\"14.00\" fill=\"#000000\">gini = 0.444</text>\n",
       "<text text-anchor=\"start\" x=\"377\" y=\"-260.8\" font-family=\"Helvetica,sans-Serif\" font-size=\"14.00\" fill=\"#000000\">samples = 6</text>\n",
       "<text text-anchor=\"start\" x=\"367.5\" y=\"-245.8\" font-family=\"Helvetica,sans-Serif\" font-size=\"14.00\" fill=\"#000000\">value = [0, 2, 4]</text>\n",
       "<text text-anchor=\"start\" x=\"366\" y=\"-230.8\" font-family=\"Helvetica,sans-Serif\" font-size=\"14.00\" fill=\"#000000\">class = virginica</text>\n",
       "</g>\n",
       "<!-- 3&#45;&gt;7 -->\n",
       "<g id=\"edge7\" class=\"edge\">\n",
       "<title>3&#45;&gt;7</title>\n",
       "<path fill=\"none\" stroke=\"#000000\" d=\"M414.5,-341.8796C414.5,-333.6838 414.5,-324.9891 414.5,-316.5013\"/>\n",
       "<polygon fill=\"#000000\" stroke=\"#000000\" points=\"418.0001,-316.298 414.5,-306.2981 411.0001,-316.2981 418.0001,-316.298\"/>\n",
       "</g>\n",
       "<!-- 5 -->\n",
       "<g id=\"node6\" class=\"node\">\n",
       "<title>5</title>\n",
       "<path fill=\"#39e581\" stroke=\"#000000\" d=\"M109,-179.5C109,-179.5 12,-179.5 12,-179.5 6,-179.5 0,-173.5 0,-167.5 0,-167.5 0,-123.5 0,-123.5 0,-117.5 6,-111.5 12,-111.5 12,-111.5 109,-111.5 109,-111.5 115,-111.5 121,-117.5 121,-123.5 121,-123.5 121,-167.5 121,-167.5 121,-173.5 115,-179.5 109,-179.5\"/>\n",
       "<text text-anchor=\"start\" x=\"32.5\" y=\"-164.3\" font-family=\"Helvetica,sans-Serif\" font-size=\"14.00\" fill=\"#000000\">gini = 0.0</text>\n",
       "<text text-anchor=\"start\" x=\"19.5\" y=\"-149.3\" font-family=\"Helvetica,sans-Serif\" font-size=\"14.00\" fill=\"#000000\">samples = 47</text>\n",
       "<text text-anchor=\"start\" x=\"10\" y=\"-134.3\" font-family=\"Helvetica,sans-Serif\" font-size=\"14.00\" fill=\"#000000\">value = [0, 47, 0]</text>\n",
       "<text text-anchor=\"start\" x=\"8\" y=\"-119.3\" font-family=\"Helvetica,sans-Serif\" font-size=\"14.00\" fill=\"#000000\">class = versicolor</text>\n",
       "</g>\n",
       "<!-- 4&#45;&gt;5 -->\n",
       "<g id=\"edge5\" class=\"edge\">\n",
       "<title>4&#45;&gt;5</title>\n",
       "<path fill=\"none\" stroke=\"#000000\" d=\"M148.2836,-222.8796C134.9358,-211.1138 120.4215,-198.3197 107.1096,-186.5855\"/>\n",
       "<polygon fill=\"#000000\" stroke=\"#000000\" points=\"109.2448,-183.8019 99.4287,-179.8149 104.616,-189.0531 109.2448,-183.8019\"/>\n",
       "</g>\n",
       "<!-- 6 -->\n",
       "<g id=\"node7\" class=\"node\">\n",
       "<title>6</title>\n",
       "<path fill=\"#8139e5\" stroke=\"#000000\" d=\"M240,-179.5C240,-179.5 151,-179.5 151,-179.5 145,-179.5 139,-173.5 139,-167.5 139,-167.5 139,-123.5 139,-123.5 139,-117.5 145,-111.5 151,-111.5 151,-111.5 240,-111.5 240,-111.5 246,-111.5 252,-117.5 252,-123.5 252,-123.5 252,-167.5 252,-167.5 252,-173.5 246,-179.5 240,-179.5\"/>\n",
       "<text text-anchor=\"start\" x=\"167.5\" y=\"-164.3\" font-family=\"Helvetica,sans-Serif\" font-size=\"14.00\" fill=\"#000000\">gini = 0.0</text>\n",
       "<text text-anchor=\"start\" x=\"158\" y=\"-149.3\" font-family=\"Helvetica,sans-Serif\" font-size=\"14.00\" fill=\"#000000\">samples = 1</text>\n",
       "<text text-anchor=\"start\" x=\"148.5\" y=\"-134.3\" font-family=\"Helvetica,sans-Serif\" font-size=\"14.00\" fill=\"#000000\">value = [0, 0, 1]</text>\n",
       "<text text-anchor=\"start\" x=\"147\" y=\"-119.3\" font-family=\"Helvetica,sans-Serif\" font-size=\"14.00\" fill=\"#000000\">class = virginica</text>\n",
       "</g>\n",
       "<!-- 4&#45;&gt;6 -->\n",
       "<g id=\"edge6\" class=\"edge\">\n",
       "<title>4&#45;&gt;6</title>\n",
       "<path fill=\"none\" stroke=\"#000000\" d=\"M195.5,-222.8796C195.5,-212.2134 195.5,-200.7021 195.5,-189.9015\"/>\n",
       "<polygon fill=\"#000000\" stroke=\"#000000\" points=\"199.0001,-189.8149 195.5,-179.8149 192.0001,-189.815 199.0001,-189.8149\"/>\n",
       "</g>\n",
       "<!-- 8 -->\n",
       "<g id=\"node9\" class=\"node\">\n",
       "<title>8</title>\n",
       "<path fill=\"#8139e5\" stroke=\"#000000\" d=\"M371,-179.5C371,-179.5 282,-179.5 282,-179.5 276,-179.5 270,-173.5 270,-167.5 270,-167.5 270,-123.5 270,-123.5 270,-117.5 276,-111.5 282,-111.5 282,-111.5 371,-111.5 371,-111.5 377,-111.5 383,-117.5 383,-123.5 383,-123.5 383,-167.5 383,-167.5 383,-173.5 377,-179.5 371,-179.5\"/>\n",
       "<text text-anchor=\"start\" x=\"298.5\" y=\"-164.3\" font-family=\"Helvetica,sans-Serif\" font-size=\"14.00\" fill=\"#000000\">gini = 0.0</text>\n",
       "<text text-anchor=\"start\" x=\"289\" y=\"-149.3\" font-family=\"Helvetica,sans-Serif\" font-size=\"14.00\" fill=\"#000000\">samples = 3</text>\n",
       "<text text-anchor=\"start\" x=\"279.5\" y=\"-134.3\" font-family=\"Helvetica,sans-Serif\" font-size=\"14.00\" fill=\"#000000\">value = [0, 0, 3]</text>\n",
       "<text text-anchor=\"start\" x=\"278\" y=\"-119.3\" font-family=\"Helvetica,sans-Serif\" font-size=\"14.00\" fill=\"#000000\">class = virginica</text>\n",
       "</g>\n",
       "<!-- 7&#45;&gt;8 -->\n",
       "<g id=\"edge8\" class=\"edge\">\n",
       "<title>7&#45;&gt;8</title>\n",
       "<path fill=\"none\" stroke=\"#000000\" d=\"M383.7219,-222.8796C375.3464,-211.5536 366.2662,-199.2748 357.8589,-187.9058\"/>\n",
       "<polygon fill=\"#000000\" stroke=\"#000000\" points=\"360.6357,-185.7743 351.8758,-179.8149 355.0075,-189.9364 360.6357,-185.7743\"/>\n",
       "</g>\n",
       "<!-- 9 -->\n",
       "<g id=\"node10\" class=\"node\">\n",
       "<title>9</title>\n",
       "<path fill=\"#39e581\" fill-opacity=\"0.498039\" stroke=\"#000000\" d=\"M552,-187C552,-187 413,-187 413,-187 407,-187 401,-181 401,-175 401,-175 401,-116 401,-116 401,-110 407,-104 413,-104 413,-104 552,-104 552,-104 558,-104 564,-110 564,-116 564,-116 564,-175 564,-175 564,-181 558,-187 552,-187\"/>\n",
       "<text text-anchor=\"start\" x=\"409\" y=\"-171.8\" font-family=\"Helvetica,sans-Serif\" font-size=\"14.00\" fill=\"#000000\">sepal length (cm) ≤ 6.95</text>\n",
       "<text text-anchor=\"start\" x=\"447\" y=\"-156.8\" font-family=\"Helvetica,sans-Serif\" font-size=\"14.00\" fill=\"#000000\">gini = 0.444</text>\n",
       "<text text-anchor=\"start\" x=\"445\" y=\"-141.8\" font-family=\"Helvetica,sans-Serif\" font-size=\"14.00\" fill=\"#000000\">samples = 3</text>\n",
       "<text text-anchor=\"start\" x=\"435.5\" y=\"-126.8\" font-family=\"Helvetica,sans-Serif\" font-size=\"14.00\" fill=\"#000000\">value = [0, 2, 1]</text>\n",
       "<text text-anchor=\"start\" x=\"430\" y=\"-111.8\" font-family=\"Helvetica,sans-Serif\" font-size=\"14.00\" fill=\"#000000\">class = versicolor</text>\n",
       "</g>\n",
       "<!-- 7&#45;&gt;9 -->\n",
       "<g id=\"edge9\" class=\"edge\">\n",
       "<title>7&#45;&gt;9</title>\n",
       "<path fill=\"none\" stroke=\"#000000\" d=\"M438.2831,-222.8796C443.2237,-214.2335 448.4816,-205.0322 453.5833,-196.1042\"/>\n",
       "<polygon fill=\"#000000\" stroke=\"#000000\" points=\"456.6928,-197.717 458.6154,-187.2981 450.6151,-194.244 456.6928,-197.717\"/>\n",
       "</g>\n",
       "<!-- 10 -->\n",
       "<g id=\"node11\" class=\"node\">\n",
       "<title>10</title>\n",
       "<path fill=\"#39e581\" stroke=\"#000000\" d=\"M463,-68C463,-68 366,-68 366,-68 360,-68 354,-62 354,-56 354,-56 354,-12 354,-12 354,-6 360,0 366,0 366,0 463,0 463,0 469,0 475,-6 475,-12 475,-12 475,-56 475,-56 475,-62 469,-68 463,-68\"/>\n",
       "<text text-anchor=\"start\" x=\"386.5\" y=\"-52.8\" font-family=\"Helvetica,sans-Serif\" font-size=\"14.00\" fill=\"#000000\">gini = 0.0</text>\n",
       "<text text-anchor=\"start\" x=\"377\" y=\"-37.8\" font-family=\"Helvetica,sans-Serif\" font-size=\"14.00\" fill=\"#000000\">samples = 2</text>\n",
       "<text text-anchor=\"start\" x=\"367.5\" y=\"-22.8\" font-family=\"Helvetica,sans-Serif\" font-size=\"14.00\" fill=\"#000000\">value = [0, 2, 0]</text>\n",
       "<text text-anchor=\"start\" x=\"362\" y=\"-7.8\" font-family=\"Helvetica,sans-Serif\" font-size=\"14.00\" fill=\"#000000\">class = versicolor</text>\n",
       "</g>\n",
       "<!-- 9&#45;&gt;10 -->\n",
       "<g id=\"edge10\" class=\"edge\">\n",
       "<title>9&#45;&gt;10</title>\n",
       "<path fill=\"none\" stroke=\"#000000\" d=\"M457.1793,-103.9815C451.7984,-95.1585 446.1068,-85.8258 440.6941,-76.9506\"/>\n",
       "<polygon fill=\"#000000\" stroke=\"#000000\" points=\"443.5912,-74.9789 435.3962,-68.2637 437.6149,-78.6236 443.5912,-74.9789\"/>\n",
       "</g>\n",
       "<!-- 11 -->\n",
       "<g id=\"node12\" class=\"node\">\n",
       "<title>11</title>\n",
       "<path fill=\"#8139e5\" stroke=\"#000000\" d=\"M594,-68C594,-68 505,-68 505,-68 499,-68 493,-62 493,-56 493,-56 493,-12 493,-12 493,-6 499,0 505,0 505,0 594,0 594,0 600,0 606,-6 606,-12 606,-12 606,-56 606,-56 606,-62 600,-68 594,-68\"/>\n",
       "<text text-anchor=\"start\" x=\"521.5\" y=\"-52.8\" font-family=\"Helvetica,sans-Serif\" font-size=\"14.00\" fill=\"#000000\">gini = 0.0</text>\n",
       "<text text-anchor=\"start\" x=\"512\" y=\"-37.8\" font-family=\"Helvetica,sans-Serif\" font-size=\"14.00\" fill=\"#000000\">samples = 1</text>\n",
       "<text text-anchor=\"start\" x=\"502.5\" y=\"-22.8\" font-family=\"Helvetica,sans-Serif\" font-size=\"14.00\" fill=\"#000000\">value = [0, 0, 1]</text>\n",
       "<text text-anchor=\"start\" x=\"501\" y=\"-7.8\" font-family=\"Helvetica,sans-Serif\" font-size=\"14.00\" fill=\"#000000\">class = virginica</text>\n",
       "</g>\n",
       "<!-- 9&#45;&gt;11 -->\n",
       "<g id=\"edge11\" class=\"edge\">\n",
       "<title>9&#45;&gt;11</title>\n",
       "<path fill=\"none\" stroke=\"#000000\" d=\"M507.4483,-103.9815C512.7501,-95.1585 518.3581,-85.8258 523.6911,-76.9506\"/>\n",
       "<polygon fill=\"#000000\" stroke=\"#000000\" points=\"526.7605,-78.638 528.9111,-68.2637 520.7604,-75.0325 526.7605,-78.638\"/>\n",
       "</g>\n",
       "<!-- 13 -->\n",
       "<g id=\"node14\" class=\"node\">\n",
       "<title>13</title>\n",
       "<path fill=\"#8139e5\" fill-opacity=\"0.498039\" stroke=\"#000000\" d=\"M701.5,-306C701.5,-306 575.5,-306 575.5,-306 569.5,-306 563.5,-300 563.5,-294 563.5,-294 563.5,-235 563.5,-235 563.5,-229 569.5,-223 575.5,-223 575.5,-223 701.5,-223 701.5,-223 707.5,-223 713.5,-229 713.5,-235 713.5,-235 713.5,-294 713.5,-294 713.5,-300 707.5,-306 701.5,-306\"/>\n",
       "<text text-anchor=\"start\" x=\"571.5\" y=\"-290.8\" font-family=\"Helvetica,sans-Serif\" font-size=\"14.00\" fill=\"#000000\">sepal width (cm) ≤ 3.1</text>\n",
       "<text text-anchor=\"start\" x=\"603\" y=\"-275.8\" font-family=\"Helvetica,sans-Serif\" font-size=\"14.00\" fill=\"#000000\">gini = 0.444</text>\n",
       "<text text-anchor=\"start\" x=\"601\" y=\"-260.8\" font-family=\"Helvetica,sans-Serif\" font-size=\"14.00\" fill=\"#000000\">samples = 3</text>\n",
       "<text text-anchor=\"start\" x=\"591.5\" y=\"-245.8\" font-family=\"Helvetica,sans-Serif\" font-size=\"14.00\" fill=\"#000000\">value = [0, 1, 2]</text>\n",
       "<text text-anchor=\"start\" x=\"590\" y=\"-230.8\" font-family=\"Helvetica,sans-Serif\" font-size=\"14.00\" fill=\"#000000\">class = virginica</text>\n",
       "</g>\n",
       "<!-- 12&#45;&gt;13 -->\n",
       "<g id=\"edge13\" class=\"edge\">\n",
       "<title>12&#45;&gt;13</title>\n",
       "<path fill=\"none\" stroke=\"#000000\" d=\"M638.5,-341.8796C638.5,-333.6838 638.5,-324.9891 638.5,-316.5013\"/>\n",
       "<polygon fill=\"#000000\" stroke=\"#000000\" points=\"642.0001,-316.298 638.5,-306.2981 635.0001,-316.2981 642.0001,-316.298\"/>\n",
       "</g>\n",
       "<!-- 16 -->\n",
       "<g id=\"node17\" class=\"node\">\n",
       "<title>16</title>\n",
       "<path fill=\"#8139e5\" stroke=\"#000000\" d=\"M837,-298.5C837,-298.5 744,-298.5 744,-298.5 738,-298.5 732,-292.5 732,-286.5 732,-286.5 732,-242.5 732,-242.5 732,-236.5 738,-230.5 744,-230.5 744,-230.5 837,-230.5 837,-230.5 843,-230.5 849,-236.5 849,-242.5 849,-242.5 849,-286.5 849,-286.5 849,-292.5 843,-298.5 837,-298.5\"/>\n",
       "<text text-anchor=\"start\" x=\"762.5\" y=\"-283.3\" font-family=\"Helvetica,sans-Serif\" font-size=\"14.00\" fill=\"#000000\">gini = 0.0</text>\n",
       "<text text-anchor=\"start\" x=\"749.5\" y=\"-268.3\" font-family=\"Helvetica,sans-Serif\" font-size=\"14.00\" fill=\"#000000\">samples = 43</text>\n",
       "<text text-anchor=\"start\" x=\"740\" y=\"-253.3\" font-family=\"Helvetica,sans-Serif\" font-size=\"14.00\" fill=\"#000000\">value = [0, 0, 43]</text>\n",
       "<text text-anchor=\"start\" x=\"742\" y=\"-238.3\" font-family=\"Helvetica,sans-Serif\" font-size=\"14.00\" fill=\"#000000\">class = virginica</text>\n",
       "</g>\n",
       "<!-- 12&#45;&gt;16 -->\n",
       "<g id=\"edge16\" class=\"edge\">\n",
       "<title>12&#45;&gt;16</title>\n",
       "<path fill=\"none\" stroke=\"#000000\" d=\"M691.6622,-341.8796C706.8313,-330.0038 723.3384,-317.0804 738.4409,-305.2568\"/>\n",
       "<polygon fill=\"#000000\" stroke=\"#000000\" points=\"740.9528,-307.7353 746.6692,-298.8149 736.6376,-302.2236 740.9528,-307.7353\"/>\n",
       "</g>\n",
       "<!-- 14 -->\n",
       "<g id=\"node15\" class=\"node\">\n",
       "<title>14</title>\n",
       "<path fill=\"#8139e5\" stroke=\"#000000\" d=\"M683,-179.5C683,-179.5 594,-179.5 594,-179.5 588,-179.5 582,-173.5 582,-167.5 582,-167.5 582,-123.5 582,-123.5 582,-117.5 588,-111.5 594,-111.5 594,-111.5 683,-111.5 683,-111.5 689,-111.5 695,-117.5 695,-123.5 695,-123.5 695,-167.5 695,-167.5 695,-173.5 689,-179.5 683,-179.5\"/>\n",
       "<text text-anchor=\"start\" x=\"610.5\" y=\"-164.3\" font-family=\"Helvetica,sans-Serif\" font-size=\"14.00\" fill=\"#000000\">gini = 0.0</text>\n",
       "<text text-anchor=\"start\" x=\"601\" y=\"-149.3\" font-family=\"Helvetica,sans-Serif\" font-size=\"14.00\" fill=\"#000000\">samples = 2</text>\n",
       "<text text-anchor=\"start\" x=\"591.5\" y=\"-134.3\" font-family=\"Helvetica,sans-Serif\" font-size=\"14.00\" fill=\"#000000\">value = [0, 0, 2]</text>\n",
       "<text text-anchor=\"start\" x=\"590\" y=\"-119.3\" font-family=\"Helvetica,sans-Serif\" font-size=\"14.00\" fill=\"#000000\">class = virginica</text>\n",
       "</g>\n",
       "<!-- 13&#45;&gt;14 -->\n",
       "<g id=\"edge14\" class=\"edge\">\n",
       "<title>13&#45;&gt;14</title>\n",
       "<path fill=\"none\" stroke=\"#000000\" d=\"M638.5,-222.8796C638.5,-212.2134 638.5,-200.7021 638.5,-189.9015\"/>\n",
       "<polygon fill=\"#000000\" stroke=\"#000000\" points=\"642.0001,-189.8149 638.5,-179.8149 635.0001,-189.815 642.0001,-189.8149\"/>\n",
       "</g>\n",
       "<!-- 15 -->\n",
       "<g id=\"node16\" class=\"node\">\n",
       "<title>15</title>\n",
       "<path fill=\"#39e581\" stroke=\"#000000\" d=\"M822,-179.5C822,-179.5 725,-179.5 725,-179.5 719,-179.5 713,-173.5 713,-167.5 713,-167.5 713,-123.5 713,-123.5 713,-117.5 719,-111.5 725,-111.5 725,-111.5 822,-111.5 822,-111.5 828,-111.5 834,-117.5 834,-123.5 834,-123.5 834,-167.5 834,-167.5 834,-173.5 828,-179.5 822,-179.5\"/>\n",
       "<text text-anchor=\"start\" x=\"745.5\" y=\"-164.3\" font-family=\"Helvetica,sans-Serif\" font-size=\"14.00\" fill=\"#000000\">gini = 0.0</text>\n",
       "<text text-anchor=\"start\" x=\"736\" y=\"-149.3\" font-family=\"Helvetica,sans-Serif\" font-size=\"14.00\" fill=\"#000000\">samples = 1</text>\n",
       "<text text-anchor=\"start\" x=\"726.5\" y=\"-134.3\" font-family=\"Helvetica,sans-Serif\" font-size=\"14.00\" fill=\"#000000\">value = [0, 1, 0]</text>\n",
       "<text text-anchor=\"start\" x=\"721\" y=\"-119.3\" font-family=\"Helvetica,sans-Serif\" font-size=\"14.00\" fill=\"#000000\">class = versicolor</text>\n",
       "</g>\n",
       "<!-- 13&#45;&gt;15 -->\n",
       "<g id=\"edge15\" class=\"edge\">\n",
       "<title>13&#45;&gt;15</title>\n",
       "<path fill=\"none\" stroke=\"#000000\" d=\"M685.7164,-222.8796C699.0642,-211.1138 713.5785,-198.3197 726.8904,-186.5855\"/>\n",
       "<polygon fill=\"#000000\" stroke=\"#000000\" points=\"729.384,-189.0531 734.5713,-179.8149 724.7552,-183.8019 729.384,-189.0531\"/>\n",
       "</g>\n",
       "</g>\n",
       "</svg>\n"
      ],
      "text/plain": [
       "<graphviz.files.Source at 0x7fb0477ce1d0>"
      ]
     },
     "execution_count": 13,
     "metadata": {},
     "output_type": "execute_result"
    }
   ],
   "source": [
    "# Visualize decision tree learning model\n",
    "graph "
   ]
  },
  {
   "cell_type": "markdown",
   "metadata": {},
   "source": [
    "### 3.3 *kNN*"
   ]
  },
  {
   "cell_type": "markdown",
   "metadata": {},
   "source": [
    "Pada *k-Nearest Neighbor* (*kNN*) tidak menghasilkan model."
   ]
  },
  {
   "cell_type": "code",
   "execution_count": 14,
   "metadata": {},
   "outputs": [
    {
     "data": {
      "text/plain": [
       "KNeighborsClassifier(algorithm='auto', leaf_size=30, metric='minkowski',\n",
       "           metric_params=None, n_jobs=1, n_neighbors=5, p=2,\n",
       "           weights='uniform')"
      ]
     },
     "execution_count": 14,
     "metadata": {},
     "output_type": "execute_result"
    }
   ],
   "source": [
    "kNN.fit(dfiris.data, dfiris.target)"
   ]
  },
  {
   "cell_type": "markdown",
   "metadata": {},
   "source": [
    "### 3.4 Neural Network MLP"
   ]
  },
  {
   "cell_type": "code",
   "execution_count": 15,
   "metadata": {},
   "outputs": [
    {
     "data": {
      "text/plain": [
       "MLPClassifier(activation='relu', alpha=1e-05, batch_size='auto', beta_1=0.9,\n",
       "       beta_2=0.999, early_stopping=False, epsilon=1e-08,\n",
       "       hidden_layer_sizes=(5, 2), learning_rate='constant',\n",
       "       learning_rate_init=0.001, max_iter=200, momentum=0.9,\n",
       "       nesterovs_momentum=True, power_t=0.5, random_state=1, shuffle=True,\n",
       "       solver='lbfgs', tol=0.0001, validation_fraction=0.1, verbose=False,\n",
       "       warm_start=False)"
      ]
     },
     "execution_count": 15,
     "metadata": {},
     "output_type": "execute_result"
    }
   ],
   "source": [
    "mlp_model = mlp.fit(dfiris.data, dfiris.target)\n",
    "mlp_model"
   ]
  },
  {
   "cell_type": "markdown",
   "metadata": {},
   "source": [
    "## 4. Pembelajaran Dataset Iris dengan Skema Split Training 90%, Test 10%, dan Menampilkan kinerja serta confusion matrix\n"
   ]
  },
  {
   "cell_type": "markdown",
   "metadata": {},
   "source": [
    "### 4.1 Membagi dataset menjadi 10% untuk Test"
   ]
  },
  {
   "cell_type": "code",
   "execution_count": 16,
   "metadata": {},
   "outputs": [],
   "source": [
    "X_train, X_test, y_train, y_test= train_test_split(dfiris.data, dfiris.target, test_size=0.1)"
   ]
  },
  {
   "cell_type": "markdown",
   "metadata": {},
   "source": [
    "### 4.2 Naïve Bayes"
   ]
  },
  {
   "cell_type": "code",
   "execution_count": 17,
   "metadata": {},
   "outputs": [
    {
     "name": "stdout",
     "output_type": "stream",
     "text": [
      "Kinerja: \n",
      "\t1. Akurasi: 93.333333%\n",
      "\t2. Presisi tiap kelas:\n",
      "\t\tsetosa: 100.0%\n",
      "\t\tversicolor: 83.33333333333334%\n",
      "\t\tvirginica: 100.0%\n",
      "\n",
      "\t3. Recall setiap kelas:\n",
      "\t\tsetosa: 100.0%\n",
      "\t\tversicolor: 100.0%\n",
      "\t\tvirginica: 85.71428571428571%\n",
      "\n",
      "\n",
      "Confusion Matrix: \n",
      "[[3 0 0]\n",
      " [0 5 0]\n",
      " [0 1 6]]\n"
     ]
    }
   ],
   "source": [
    "bayes_model = gnb.fit(X_train, y_train)\n",
    "prediction_bayes = bayes_model.predict(X_test)\n",
    "precision_bayes = metrics.precision_score(y_test, prediction_bayes, average=None) * 100\n",
    "recall_bayes = metrics.recall_score(y_test, prediction_bayes, average=None) * 100\n",
    "\n",
    "print(\"Kinerja: \")\n",
    "print(\"\\t1. Akurasi: %f\" % (np.mean(prediction_bayes == y_test) * 100) + \"%\")\n",
    "print(\"\\t2. Presisi tiap kelas:\")\n",
    "for i in range(3):\n",
    "    print(\"\\t\\t\" + dfiris.target_names[i] + \": \" + str(precision_bayes[i]) + \"%\")\n",
    "print\n",
    "print(\"\\t3. Recall setiap kelas:\")\n",
    "for i in range(3):\n",
    "    print(\"\\t\\t\" + dfiris.target_names[i] + \": \" + str(recall_bayes[i]) + \"%\")\n",
    "print\n",
    "\n",
    "print\n",
    "print(\"Confusion Matrix: \")\n",
    "print(metrics.confusion_matrix(y_test, prediction_bayes))  "
   ]
  },
  {
   "cell_type": "markdown",
   "metadata": {},
   "source": [
    "### 4.3 Decision Tree Learning"
   ]
  },
  {
   "cell_type": "code",
   "execution_count": 18,
   "metadata": {},
   "outputs": [
    {
     "name": "stdout",
     "output_type": "stream",
     "text": [
      "Kinerja: \n",
      "\t1. Akurasi: 93.333333%\n",
      "\t2. Presisi tiap kelas:\n",
      "\t\tsetosa: 100.0%\n",
      "\t\tversicolor: 83.33333333333334%\n",
      "\t\tvirginica: 100.0%\n",
      "\t3. Recall setiap kelas:\n",
      "\t\tsetosa: 100.0%\n",
      "\t\tversicolor: 100.0%\n",
      "\t\tvirginica: 85.71428571428571%\n",
      "\n",
      "\n",
      "Confusion Matrix: \n",
      "[[3 0 0]\n",
      " [0 5 0]\n",
      " [0 1 6]]\n"
     ]
    }
   ],
   "source": [
    "dtl_model = dtl.fit(X_train, y_train)\n",
    "prediction_dtl = dtl_model.predict(X_test)\n",
    "precision_dtl = metrics.precision_score(y_test, prediction_dtl, average=None) * 100\n",
    "recall_dtl = metrics.recall_score(y_test, prediction_dtl, average=None) * 100\n",
    "\n",
    "print(\"Kinerja: \")\n",
    "print(\"\\t1. Akurasi: %f\" % (np.mean(prediction_dtl == y_test) * 100) + \"%\")\n",
    "print(\"\\t2. Presisi tiap kelas:\")\n",
    "for i in range(3):\n",
    "    print(\"\\t\\t\" + dfiris.target_names[i] + \": \" + str(precision_dtl[i]) + \"%\")\n",
    "print(\"\\t3. Recall setiap kelas:\")\n",
    "for i in range(3):\n",
    "    print(\"\\t\\t\" + dfiris.target_names[i] + \": \" + str(recall_dtl[i]) + \"%\")\n",
    "print\n",
    "\n",
    "print\n",
    "print(\"Confusion Matrix: \")\n",
    "print(metrics.confusion_matrix(y_test, prediction_dtl))  "
   ]
  },
  {
   "cell_type": "markdown",
   "metadata": {},
   "source": [
    "### 4.4 *kNN*"
   ]
  },
  {
   "cell_type": "code",
   "execution_count": 19,
   "metadata": {},
   "outputs": [
    {
     "name": "stdout",
     "output_type": "stream",
     "text": [
      "Kinerja: \n",
      "\t1. Akurasi: 93.333333%\n",
      "\t2. Presisi tiap kelas:\n",
      "\t\tsetosa: 100.0%\n",
      "\t\tversicolor: 83.33333333333334%\n",
      "\t\tvirginica: 100.0%\n",
      "\t3. Recall setiap kelas:\n",
      "\t\tsetosa: 100.0%\n",
      "\t\tversicolor: 100.0%\n",
      "\t\tvirginica: 85.71428571428571%\n",
      "\n",
      "\n",
      "Confusion Matrix: \n",
      "[[3 0 0]\n",
      " [0 5 0]\n",
      " [0 1 6]]\n"
     ]
    }
   ],
   "source": [
    "kNN.fit(X_train, y_train)\n",
    "prediction_knn = kNN.predict(X_test)\n",
    "precision_knn = metrics.precision_score(y_test, prediction_knn, average=None) * 100\n",
    "recall_knn = metrics.recall_score(y_test, prediction_knn, average=None) * 100\n",
    "\n",
    "print(\"Kinerja: \")\n",
    "print(\"\\t1. Akurasi: %f\" % (np.mean(prediction_knn == y_test) * 100) + \"%\")\n",
    "print(\"\\t2. Presisi tiap kelas:\")\n",
    "for i in range(3):\n",
    "    print(\"\\t\\t\" + dfiris.target_names[i] + \": \" + str(precision_knn[i]) + \"%\")\n",
    "print(\"\\t3. Recall setiap kelas:\")\n",
    "for i in range(3):\n",
    "    print(\"\\t\\t\" + dfiris.target_names[i] + \": \" + str(recall_knn[i]) + \"%\")\n",
    "print\n",
    "\n",
    "print\n",
    "print(\"Confusion Matrix: \")\n",
    "print(metrics.confusion_matrix(y_test, prediction_knn))  "
   ]
  },
  {
   "cell_type": "markdown",
   "metadata": {},
   "source": [
    "### 4.5 Neural Network MLP"
   ]
  },
  {
   "cell_type": "code",
   "execution_count": 20,
   "metadata": {},
   "outputs": [
    {
     "name": "stdout",
     "output_type": "stream",
     "text": [
      "Kinerja: \n",
      "\t1. Akurasi: 20.000000%\n",
      "\t2. Presisi tiap kelas:\n",
      "\t\tsetosa: 20.0%\n",
      "\t\tversicolor: 0.0%\n",
      "\t\tvirginica: 0.0%\n",
      "\t3. Recall setiap kelas:\n",
      "\t\tsetosa: 100.0%\n",
      "\t\tversicolor: 0.0%\n",
      "\t\tvirginica: 0.0%\n",
      "\n",
      "\n",
      "Confusion Matrix: \n",
      "[[3 0 0]\n",
      " [5 0 0]\n",
      " [7 0 0]]\n"
     ]
    },
    {
     "name": "stderr",
     "output_type": "stream",
     "text": [
      "/usr/lib/anaconda2/lib/python2.7/site-packages/sklearn/metrics/classification.py:1135: UndefinedMetricWarning: Precision is ill-defined and being set to 0.0 in labels with no predicted samples.\n",
      "  'precision', 'predicted', average, warn_for)\n"
     ]
    }
   ],
   "source": [
    "mlp_model = mlp.fit(X_train, y_train)\n",
    "prediction_mlp = mlp_model.predict(X_test)\n",
    "precision_mlp = metrics.precision_score(y_test, prediction_mlp, average=None) * 100\n",
    "recall_mlp = metrics.recall_score(y_test, prediction_mlp, average=None) * 100\n",
    "\n",
    "print(\"Kinerja: \")\n",
    "print(\"\\t1. Akurasi: %f\" % (np.mean(prediction_mlp == y_test) * 100) + \"%\")\n",
    "print(\"\\t2. Presisi tiap kelas:\")\n",
    "for i in range(3):\n",
    "    print(\"\\t\\t\" + dfiris.target_names[i] + \": \" + str(precision_mlp[i]) + \"%\")\n",
    "print(\"\\t3. Recall setiap kelas:\")\n",
    "for i in range(3):\n",
    "    print(\"\\t\\t\" + dfiris.target_names[i] + \": \" + str(recall_mlp[i]) + \"%\")\n",
    "print\n",
    "\n",
    "print\n",
    "print(\"Confusion Matrix: \")\n",
    "print(metrics.confusion_matrix(y_test, prediction_mlp))  "
   ]
  },
  {
   "cell_type": "markdown",
   "metadata": {},
   "source": [
    "## 5. Pembelajaran Dataset Iris dengan Skema 10-Fold Cross Validation, dan menampilkan kinerjanya."
   ]
  },
  {
   "cell_type": "markdown",
   "metadata": {},
   "source": [
    "### 5.1 Naïve Bayes"
   ]
  },
  {
   "cell_type": "code",
   "execution_count": 21,
   "metadata": {},
   "outputs": [
    {
     "name": "stdout",
     "output_type": "stream",
     "text": [
      "Kinerja: \n",
      "Fold ke-1 = 0.933333\n",
      "Fold ke-2 = 0.933333\n",
      "Fold ke-3 = 1.000000\n",
      "Fold ke-4 = 0.933333\n",
      "Fold ke-5 = 0.933333\n",
      "Fold ke-6 = 0.933333\n",
      "Fold ke-7 = 0.866667\n",
      "Fold ke-8 = 1.000000\n",
      "Fold ke-9 = 1.000000\n",
      "Fold ke-10 = 1.000000\n",
      "\n",
      "Rata-rata = 0.953333\n"
     ]
    }
   ],
   "source": [
    "scores_bayes = cross_val_score(gnb, dfiris.data, dfiris.target, cv=10)\n",
    "\n",
    "i = 1\n",
    "print(\"Kinerja: \")\n",
    "for score in scores_bayes:\n",
    "    print(\"Fold ke-%d\" % i + \" = %f\" % score)\n",
    "    i+=1\n",
    "print\n",
    "print(\"Rata-rata = %f\"% np.mean(scores_bayes))"
   ]
  },
  {
   "cell_type": "markdown",
   "metadata": {},
   "source": [
    "### 5.2 Decision Tree Learning"
   ]
  },
  {
   "cell_type": "code",
   "execution_count": 22,
   "metadata": {},
   "outputs": [
    {
     "name": "stdout",
     "output_type": "stream",
     "text": [
      "Kinerja: \n",
      "Fold ke-1 = 1.000000\n",
      "Fold ke-2 = 0.933333\n",
      "Fold ke-3 = 1.000000\n",
      "Fold ke-4 = 0.933333\n",
      "Fold ke-5 = 0.933333\n",
      "Fold ke-6 = 0.866667\n",
      "Fold ke-7 = 0.933333\n",
      "Fold ke-8 = 0.933333\n",
      "Fold ke-9 = 1.000000\n",
      "Fold ke-10 = 1.000000\n",
      "\n",
      "Rata-rata = 0.953333\n"
     ]
    }
   ],
   "source": [
    "scores_dtl = cross_val_score(dtl, dfiris.data, dfiris.target, cv=10)\n",
    "\n",
    "i = 1\n",
    "print(\"Kinerja: \")\n",
    "for score in scores_dtl:\n",
    "    print(\"Fold ke-%d\" % i + \" = %f\" % score)\n",
    "    i+=1\n",
    "print\n",
    "print(\"Rata-rata = %f\"% np.mean(scores_dtl))"
   ]
  },
  {
   "cell_type": "markdown",
   "metadata": {},
   "source": [
    "### 5.3 *kNN*"
   ]
  },
  {
   "cell_type": "code",
   "execution_count": 23,
   "metadata": {},
   "outputs": [
    {
     "name": "stdout",
     "output_type": "stream",
     "text": [
      "Kinerja: \n",
      "Fold ke-1 = 1.000000\n",
      "Fold ke-2 = 0.933333\n",
      "Fold ke-3 = 1.000000\n",
      "Fold ke-4 = 1.000000\n",
      "Fold ke-5 = 0.866667\n",
      "Fold ke-6 = 0.933333\n",
      "Fold ke-7 = 0.933333\n",
      "Fold ke-8 = 1.000000\n",
      "Fold ke-9 = 1.000000\n",
      "Fold ke-10 = 1.000000\n",
      "\n",
      "Rata-rata = 0.966667\n"
     ]
    }
   ],
   "source": [
    "scores_knn = cross_val_score(kNN, dfiris.data, dfiris.target, cv=10)\n",
    "\n",
    "i = 1\n",
    "print(\"Kinerja: \")\n",
    "for score in scores_knn:\n",
    "    print(\"Fold ke-%d\" % i + \" = %f\" % score)\n",
    "    i+=1\n",
    "print\n",
    "print(\"Rata-rata = %f\"% np.mean(scores_knn))"
   ]
  },
  {
   "cell_type": "markdown",
   "metadata": {},
   "source": [
    "### 5.4 Neural Network MLP"
   ]
  },
  {
   "cell_type": "code",
   "execution_count": 24,
   "metadata": {},
   "outputs": [
    {
     "name": "stdout",
     "output_type": "stream",
     "text": [
      "Kinerja: \n",
      "Fold ke-1 = 0.333333\n",
      "Fold ke-2 = 0.333333\n",
      "Fold ke-3 = 0.333333\n",
      "Fold ke-4 = 0.333333\n",
      "Fold ke-5 = 0.333333\n",
      "Fold ke-6 = 0.333333\n",
      "Fold ke-7 = 0.333333\n",
      "Fold ke-8 = 0.333333\n",
      "Fold ke-9 = 0.333333\n",
      "Fold ke-10 = 0.333333\n",
      "\n",
      "Rata-rata = 0.333333\n"
     ]
    }
   ],
   "source": [
    "scores_mlp = cross_val_score(mlp, dfiris.data, dfiris.target, cv=10)\n",
    "\n",
    "i = 1\n",
    "print(\"Kinerja: \")\n",
    "for score in scores_mlp:\n",
    "    print(\"Fold ke-%d\" % i + \" = %f\" % score)\n",
    "    i+=1\n",
    "print\n",
    "print(\"Rata-rata = %f\"% np.mean(scores_mlp))"
   ]
  },
  {
   "cell_type": "markdown",
   "metadata": {},
   "source": [
    "## 6. Penyimpanan Model ke File External"
   ]
  },
  {
   "cell_type": "code",
   "execution_count": 25,
   "metadata": {},
   "outputs": [
    {
     "data": {
      "text/plain": [
       "['iris_MLP.mdl']"
      ]
     },
     "execution_count": 25,
     "metadata": {},
     "output_type": "execute_result"
    }
   ],
   "source": [
    "joblib.dump(gnb, 'iris_NB.mdl')\n",
    "joblib.dump(dtl, 'iris_DT.mdl')\n",
    "joblib.dump(kNN, 'iris_kNN.mdl')\n",
    "joblib.dump(mlp, 'iris_MLP.mdl')"
   ]
  },
  {
   "cell_type": "markdown",
   "metadata": {},
   "source": [
    "## 7. Membaca model dari File External"
   ]
  },
  {
   "cell_type": "code",
   "execution_count": 26,
   "metadata": {},
   "outputs": [],
   "source": [
    "gnb = joblib.load('iris_NB.mdl')\n",
    "dtl = joblib.load('iris_DT.mdl')\n",
    "kNN = joblib.load('iris_kNN.mdl')\n",
    "mlp = joblib.load('iris_MLP.mdl')"
   ]
  },
  {
   "cell_type": "markdown",
   "metadata": {},
   "source": [
    "## 8. Membuat Instance Baru dengan memberikan nilai pada Atribut"
   ]
  },
  {
   "cell_type": "code",
   "execution_count": 27,
   "metadata": {},
   "outputs": [
    {
     "name": "stdout",
     "output_type": "stream",
     "text": [
      "Atribut instance baru:\n",
      "('sepal length (cm):', 3.4)\n",
      "('sepal width (cm):', 3.3)\n",
      "('petal length (cm):', 2.4)\n",
      "('petal width (cm):', 0.5)\n"
     ]
    }
   ],
   "source": [
    "example_iris = [3.4, 3.3, 2.4, 0.5]\n",
    "example_iris = np.array([example_iris])\n",
    "                \n",
    "print(\"Atribut instance baru:\")\n",
    "for i in range(4):\n",
    "    print(dfiris.feature_names[i] + \":\", example_iris[0][i])"
   ]
  },
  {
   "cell_type": "markdown",
   "metadata": {},
   "source": [
    "## 9. Klasifikasi menggunakan Model"
   ]
  },
  {
   "cell_type": "markdown",
   "metadata": {},
   "source": [
    "### 9.1 Naïve Bayes"
   ]
  },
  {
   "cell_type": "code",
   "execution_count": 28,
   "metadata": {},
   "outputs": [
    {
     "name": "stdout",
     "output_type": "stream",
     "text": [
      "['setosa']\n"
     ]
    }
   ],
   "source": [
    "print(dfiris.target_names[gnb.predict(example_iris)])"
   ]
  },
  {
   "cell_type": "markdown",
   "metadata": {},
   "source": [
    "### 9.2 Decision Tree Learning"
   ]
  },
  {
   "cell_type": "code",
   "execution_count": 29,
   "metadata": {},
   "outputs": [
    {
     "name": "stdout",
     "output_type": "stream",
     "text": [
      "['setosa']\n"
     ]
    }
   ],
   "source": [
    "print(dfiris.target_names[dtl.predict(example_iris)])"
   ]
  },
  {
   "cell_type": "markdown",
   "metadata": {},
   "source": [
    "### 9.3 *kNN*"
   ]
  },
  {
   "cell_type": "code",
   "execution_count": 30,
   "metadata": {},
   "outputs": [
    {
     "name": "stdout",
     "output_type": "stream",
     "text": [
      "['setosa']\n"
     ]
    }
   ],
   "source": [
    "print(dfiris.target_names[kNN.predict(example_iris)])"
   ]
  },
  {
   "cell_type": "markdown",
   "metadata": {},
   "source": [
    "### 9.4 Neural Network MLP"
   ]
  },
  {
   "cell_type": "code",
   "execution_count": 31,
   "metadata": {},
   "outputs": [
    {
     "name": "stdout",
     "output_type": "stream",
     "text": [
      "['setosa']\n"
     ]
    }
   ],
   "source": [
    "print(dfiris.target_names[mlp.predict(example_iris)])"
   ]
  },
  {
   "cell_type": "markdown",
   "metadata": {},
   "source": [
    "## 10. Sumber"
   ]
  },
  {
   "cell_type": "markdown",
   "metadata": {},
   "source": [
    "Tom Mitchell, Machine Learning, 1999, Textbook"
   ]
  }
 ],
 "metadata": {
  "kernelspec": {
   "display_name": "Python 2",
   "language": "python",
   "name": "python2"
  },
  "language_info": {
   "codemirror_mode": {
    "name": "ipython",
    "version": 2
   },
   "file_extension": ".py",
   "mimetype": "text/x-python",
   "name": "python",
   "nbconvert_exporter": "python",
   "pygments_lexer": "ipython2",
   "version": "2.7.15"
  }
 },
 "nbformat": 4,
 "nbformat_minor": 2
}
